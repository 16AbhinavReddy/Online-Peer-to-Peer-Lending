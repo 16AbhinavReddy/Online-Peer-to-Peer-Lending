{
 "cells": [
  {
   "cell_type": "code",
   "execution_count": 101,
   "metadata": {
    "id": "xQMwkH_vabUx"
   },
   "outputs": [],
   "source": [
    "import numpy as np\n",
    "import pandas as pd\n",
    "import matplotlib.pyplot as plt\n",
    "import seaborn as sns"
   ]
  },
  {
   "cell_type": "code",
   "execution_count": 102,
   "metadata": {
    "id": "P0FkLKqua2PY"
   },
   "outputs": [],
   "source": [
    "df = pd.read_csv('train.csv')\n",
    "df1 = pd.read_csv('test.csv')\n",
    "df2 = pd.read_csv('test.csv')"
   ]
  },
  {
   "cell_type": "code",
   "execution_count": 103,
   "metadata": {},
   "outputs": [
    {
     "data": {
      "text/plain": [
       "COMPLETED    574023\n",
       "CURRENT      220985\n",
       "CHARGEOFF    148268\n",
       "DEFAULTED       419\n",
       "Name: loan_status_description, dtype: int64"
      ]
     },
     "execution_count": 103,
     "metadata": {},
     "output_type": "execute_result"
    }
   ],
   "source": [
    "df[\"loan_status_description\"].value_counts()"
   ]
  },
  {
   "cell_type": "code",
   "execution_count": 104,
   "metadata": {
    "colab": {
     "base_uri": "https://localhost:8080/",
     "height": 357
    },
    "id": "ScSZbxY-bPno",
    "outputId": "e99cf18e-30ee-49ef-b61a-492690184125"
   },
   "outputs": [
    {
     "data": {
      "text/html": [
       "<div>\n",
       "<style scoped>\n",
       "    .dataframe tbody tr th:only-of-type {\n",
       "        vertical-align: middle;\n",
       "    }\n",
       "\n",
       "    .dataframe tbody tr th {\n",
       "        vertical-align: top;\n",
       "    }\n",
       "\n",
       "    .dataframe thead th {\n",
       "        text-align: right;\n",
       "    }\n",
       "</style>\n",
       "<table border=\"1\" class=\"dataframe\">\n",
       "  <thead>\n",
       "    <tr style=\"text-align: right;\">\n",
       "      <th></th>\n",
       "      <th>loan_number</th>\n",
       "      <th>amount_borrowed</th>\n",
       "      <th>term</th>\n",
       "      <th>borrower_rate</th>\n",
       "      <th>installment</th>\n",
       "      <th>grade</th>\n",
       "      <th>origination_date</th>\n",
       "      <th>listing_title</th>\n",
       "      <th>principal_balance</th>\n",
       "      <th>principal_paid</th>\n",
       "      <th>interest_paid</th>\n",
       "      <th>late_fees_paid</th>\n",
       "      <th>last_payment_date</th>\n",
       "      <th>next_payment_due_date</th>\n",
       "      <th>days_past_due</th>\n",
       "      <th>loan_status_description</th>\n",
       "      <th>data_source</th>\n",
       "    </tr>\n",
       "  </thead>\n",
       "  <tbody>\n",
       "    <tr>\n",
       "      <th>0</th>\n",
       "      <td>71418865</td>\n",
       "      <td>5100</td>\n",
       "      <td>36</td>\n",
       "      <td>0.0916</td>\n",
       "      <td>162.56</td>\n",
       "      <td>B</td>\n",
       "      <td>2016-02-01T00:00</td>\n",
       "      <td>credit_card</td>\n",
       "      <td>1256.87</td>\n",
       "      <td>3843.13</td>\n",
       "      <td>705.95</td>\n",
       "      <td>0.0</td>\n",
       "      <td>2018-06-01T00:00</td>\n",
       "      <td>2018-07-01T00:00</td>\n",
       "      <td>60</td>\n",
       "      <td>CURRENT</td>\n",
       "      <td>'Lending Club'</td>\n",
       "    </tr>\n",
       "    <tr>\n",
       "      <th>1</th>\n",
       "      <td>44116029</td>\n",
       "      <td>11775</td>\n",
       "      <td>60</td>\n",
       "      <td>0.1786</td>\n",
       "      <td>298.12</td>\n",
       "      <td>D</td>\n",
       "      <td>2015-03-01T00:00</td>\n",
       "      <td>debt_consolidation</td>\n",
       "      <td>0.00</td>\n",
       "      <td>2356.98</td>\n",
       "      <td>2687.69</td>\n",
       "      <td>0.0</td>\n",
       "      <td>2016-09-01T00:00</td>\n",
       "      <td>2016-10-01T00:00</td>\n",
       "      <td>698</td>\n",
       "      <td>CHARGEOFF</td>\n",
       "      <td>'Lending Club'</td>\n",
       "    </tr>\n",
       "    <tr>\n",
       "      <th>2</th>\n",
       "      <td>30245478</td>\n",
       "      <td>20000</td>\n",
       "      <td>36</td>\n",
       "      <td>0.0839</td>\n",
       "      <td>630.34</td>\n",
       "      <td>A</td>\n",
       "      <td>2014-10-01T00:00</td>\n",
       "      <td>debt_consolidation</td>\n",
       "      <td>0.00</td>\n",
       "      <td>20000.00</td>\n",
       "      <td>2668.60</td>\n",
       "      <td>0.0</td>\n",
       "      <td>2017-10-01T00:00</td>\n",
       "      <td>2017-11-01T00:00</td>\n",
       "      <td>0</td>\n",
       "      <td>COMPLETED</td>\n",
       "      <td>'Lending Club'</td>\n",
       "    </tr>\n",
       "    <tr>\n",
       "      <th>3</th>\n",
       "      <td>71673111</td>\n",
       "      <td>6000</td>\n",
       "      <td>36</td>\n",
       "      <td>0.0649</td>\n",
       "      <td>183.87</td>\n",
       "      <td>A</td>\n",
       "      <td>2016-02-01T00:00</td>\n",
       "      <td>debt_consolidation</td>\n",
       "      <td>0.00</td>\n",
       "      <td>6000.00</td>\n",
       "      <td>346.34</td>\n",
       "      <td>0.0</td>\n",
       "      <td>2017-02-01T00:00</td>\n",
       "      <td>2017-03-01T00:00</td>\n",
       "      <td>0</td>\n",
       "      <td>COMPLETED</td>\n",
       "      <td>'Lending Club'</td>\n",
       "    </tr>\n",
       "    <tr>\n",
       "      <th>4</th>\n",
       "      <td>15481006</td>\n",
       "      <td>22500</td>\n",
       "      <td>36</td>\n",
       "      <td>0.0662</td>\n",
       "      <td>690.84</td>\n",
       "      <td>A</td>\n",
       "      <td>2014-05-01T00:00</td>\n",
       "      <td>debt_consolidation</td>\n",
       "      <td>0.00</td>\n",
       "      <td>22500.00</td>\n",
       "      <td>1240.16</td>\n",
       "      <td>0.0</td>\n",
       "      <td>2015-12-01T00:00</td>\n",
       "      <td>2016-01-01T00:00</td>\n",
       "      <td>0</td>\n",
       "      <td>COMPLETED</td>\n",
       "      <td>'Lending Club'</td>\n",
       "    </tr>\n",
       "  </tbody>\n",
       "</table>\n",
       "</div>"
      ],
      "text/plain": [
       "   loan_number  amount_borrowed  term  borrower_rate  installment grade  \\\n",
       "0     71418865             5100    36         0.0916       162.56     B   \n",
       "1     44116029            11775    60         0.1786       298.12     D   \n",
       "2     30245478            20000    36         0.0839       630.34     A   \n",
       "3     71673111             6000    36         0.0649       183.87     A   \n",
       "4     15481006            22500    36         0.0662       690.84     A   \n",
       "\n",
       "   origination_date       listing_title  principal_balance  principal_paid  \\\n",
       "0  2016-02-01T00:00         credit_card            1256.87         3843.13   \n",
       "1  2015-03-01T00:00  debt_consolidation               0.00         2356.98   \n",
       "2  2014-10-01T00:00  debt_consolidation               0.00        20000.00   \n",
       "3  2016-02-01T00:00  debt_consolidation               0.00         6000.00   \n",
       "4  2014-05-01T00:00  debt_consolidation               0.00        22500.00   \n",
       "\n",
       "   interest_paid  late_fees_paid last_payment_date next_payment_due_date  \\\n",
       "0         705.95             0.0  2018-06-01T00:00      2018-07-01T00:00   \n",
       "1        2687.69             0.0  2016-09-01T00:00      2016-10-01T00:00   \n",
       "2        2668.60             0.0  2017-10-01T00:00      2017-11-01T00:00   \n",
       "3         346.34             0.0  2017-02-01T00:00      2017-03-01T00:00   \n",
       "4        1240.16             0.0  2015-12-01T00:00      2016-01-01T00:00   \n",
       "\n",
       "   days_past_due loan_status_description     data_source  \n",
       "0             60                 CURRENT  'Lending Club'  \n",
       "1            698               CHARGEOFF  'Lending Club'  \n",
       "2              0               COMPLETED  'Lending Club'  \n",
       "3              0               COMPLETED  'Lending Club'  \n",
       "4              0               COMPLETED  'Lending Club'  "
      ]
     },
     "execution_count": 104,
     "metadata": {},
     "output_type": "execute_result"
    }
   ],
   "source": [
    "df.head()"
   ]
  },
  {
   "cell_type": "code",
   "execution_count": 105,
   "metadata": {
    "id": "qWEM_a_UbTde"
   },
   "outputs": [
    {
     "data": {
      "text/plain": [
       "array([\"'Lending Club'\"], dtype=object)"
      ]
     },
     "execution_count": 105,
     "metadata": {},
     "output_type": "execute_result"
    }
   ],
   "source": [
    "df[\"data_source\"].unique()\n"
   ]
  },
  {
   "cell_type": "code",
   "execution_count": 106,
   "metadata": {},
   "outputs": [],
   "source": [
    "df = df.drop(\"data_source\",axis=1)\n",
    "df1 = df1.drop(\"data_source\",axis=1)"
   ]
  },
  {
   "cell_type": "code",
   "execution_count": 107,
   "metadata": {
    "id": "q_BwZFnxbZx7"
   },
   "outputs": [],
   "source": [
    "df=df.drop(\"loan_number\",axis=1)\n",
    "df1=df1.drop(\"loan_number\",axis=1)"
   ]
  },
  {
   "cell_type": "code",
   "execution_count": 108,
   "metadata": {
    "colab": {
     "base_uri": "https://localhost:8080/",
     "height": 270
    },
    "id": "0UfkoNg9bhej",
    "outputId": "b16c9daa-e80f-4990-b1a7-4ee3e6bd400d"
   },
   "outputs": [
    {
     "data": {
      "text/html": [
       "<div>\n",
       "<style scoped>\n",
       "    .dataframe tbody tr th:only-of-type {\n",
       "        vertical-align: middle;\n",
       "    }\n",
       "\n",
       "    .dataframe tbody tr th {\n",
       "        vertical-align: top;\n",
       "    }\n",
       "\n",
       "    .dataframe thead th {\n",
       "        text-align: right;\n",
       "    }\n",
       "</style>\n",
       "<table border=\"1\" class=\"dataframe\">\n",
       "  <thead>\n",
       "    <tr style=\"text-align: right;\">\n",
       "      <th></th>\n",
       "      <th>amount_borrowed</th>\n",
       "      <th>term</th>\n",
       "      <th>borrower_rate</th>\n",
       "      <th>installment</th>\n",
       "      <th>grade</th>\n",
       "      <th>origination_date</th>\n",
       "      <th>listing_title</th>\n",
       "      <th>principal_balance</th>\n",
       "      <th>principal_paid</th>\n",
       "      <th>interest_paid</th>\n",
       "      <th>late_fees_paid</th>\n",
       "      <th>last_payment_date</th>\n",
       "      <th>next_payment_due_date</th>\n",
       "      <th>days_past_due</th>\n",
       "      <th>loan_status_description</th>\n",
       "    </tr>\n",
       "  </thead>\n",
       "  <tbody>\n",
       "    <tr>\n",
       "      <th>0</th>\n",
       "      <td>5100</td>\n",
       "      <td>36</td>\n",
       "      <td>0.0916</td>\n",
       "      <td>162.56</td>\n",
       "      <td>B</td>\n",
       "      <td>2016-02-01T00:00</td>\n",
       "      <td>credit_card</td>\n",
       "      <td>1256.87</td>\n",
       "      <td>3843.13</td>\n",
       "      <td>705.95</td>\n",
       "      <td>0.0</td>\n",
       "      <td>2018-06-01T00:00</td>\n",
       "      <td>2018-07-01T00:00</td>\n",
       "      <td>60</td>\n",
       "      <td>CURRENT</td>\n",
       "    </tr>\n",
       "    <tr>\n",
       "      <th>1</th>\n",
       "      <td>11775</td>\n",
       "      <td>60</td>\n",
       "      <td>0.1786</td>\n",
       "      <td>298.12</td>\n",
       "      <td>D</td>\n",
       "      <td>2015-03-01T00:00</td>\n",
       "      <td>debt_consolidation</td>\n",
       "      <td>0.00</td>\n",
       "      <td>2356.98</td>\n",
       "      <td>2687.69</td>\n",
       "      <td>0.0</td>\n",
       "      <td>2016-09-01T00:00</td>\n",
       "      <td>2016-10-01T00:00</td>\n",
       "      <td>698</td>\n",
       "      <td>CHARGEOFF</td>\n",
       "    </tr>\n",
       "    <tr>\n",
       "      <th>2</th>\n",
       "      <td>20000</td>\n",
       "      <td>36</td>\n",
       "      <td>0.0839</td>\n",
       "      <td>630.34</td>\n",
       "      <td>A</td>\n",
       "      <td>2014-10-01T00:00</td>\n",
       "      <td>debt_consolidation</td>\n",
       "      <td>0.00</td>\n",
       "      <td>20000.00</td>\n",
       "      <td>2668.60</td>\n",
       "      <td>0.0</td>\n",
       "      <td>2017-10-01T00:00</td>\n",
       "      <td>2017-11-01T00:00</td>\n",
       "      <td>0</td>\n",
       "      <td>COMPLETED</td>\n",
       "    </tr>\n",
       "    <tr>\n",
       "      <th>3</th>\n",
       "      <td>6000</td>\n",
       "      <td>36</td>\n",
       "      <td>0.0649</td>\n",
       "      <td>183.87</td>\n",
       "      <td>A</td>\n",
       "      <td>2016-02-01T00:00</td>\n",
       "      <td>debt_consolidation</td>\n",
       "      <td>0.00</td>\n",
       "      <td>6000.00</td>\n",
       "      <td>346.34</td>\n",
       "      <td>0.0</td>\n",
       "      <td>2017-02-01T00:00</td>\n",
       "      <td>2017-03-01T00:00</td>\n",
       "      <td>0</td>\n",
       "      <td>COMPLETED</td>\n",
       "    </tr>\n",
       "    <tr>\n",
       "      <th>4</th>\n",
       "      <td>22500</td>\n",
       "      <td>36</td>\n",
       "      <td>0.0662</td>\n",
       "      <td>690.84</td>\n",
       "      <td>A</td>\n",
       "      <td>2014-05-01T00:00</td>\n",
       "      <td>debt_consolidation</td>\n",
       "      <td>0.00</td>\n",
       "      <td>22500.00</td>\n",
       "      <td>1240.16</td>\n",
       "      <td>0.0</td>\n",
       "      <td>2015-12-01T00:00</td>\n",
       "      <td>2016-01-01T00:00</td>\n",
       "      <td>0</td>\n",
       "      <td>COMPLETED</td>\n",
       "    </tr>\n",
       "  </tbody>\n",
       "</table>\n",
       "</div>"
      ],
      "text/plain": [
       "   amount_borrowed  term  borrower_rate  installment grade  origination_date  \\\n",
       "0             5100    36         0.0916       162.56     B  2016-02-01T00:00   \n",
       "1            11775    60         0.1786       298.12     D  2015-03-01T00:00   \n",
       "2            20000    36         0.0839       630.34     A  2014-10-01T00:00   \n",
       "3             6000    36         0.0649       183.87     A  2016-02-01T00:00   \n",
       "4            22500    36         0.0662       690.84     A  2014-05-01T00:00   \n",
       "\n",
       "        listing_title  principal_balance  principal_paid  interest_paid  \\\n",
       "0         credit_card            1256.87         3843.13         705.95   \n",
       "1  debt_consolidation               0.00         2356.98        2687.69   \n",
       "2  debt_consolidation               0.00        20000.00        2668.60   \n",
       "3  debt_consolidation               0.00         6000.00         346.34   \n",
       "4  debt_consolidation               0.00        22500.00        1240.16   \n",
       "\n",
       "   late_fees_paid last_payment_date next_payment_due_date  days_past_due  \\\n",
       "0             0.0  2018-06-01T00:00      2018-07-01T00:00             60   \n",
       "1             0.0  2016-09-01T00:00      2016-10-01T00:00            698   \n",
       "2             0.0  2017-10-01T00:00      2017-11-01T00:00              0   \n",
       "3             0.0  2017-02-01T00:00      2017-03-01T00:00              0   \n",
       "4             0.0  2015-12-01T00:00      2016-01-01T00:00              0   \n",
       "\n",
       "  loan_status_description  \n",
       "0                 CURRENT  \n",
       "1               CHARGEOFF  \n",
       "2               COMPLETED  \n",
       "3               COMPLETED  \n",
       "4               COMPLETED  "
      ]
     },
     "execution_count": 108,
     "metadata": {},
     "output_type": "execute_result"
    }
   ],
   "source": [
    "df.head()"
   ]
  },
  {
   "cell_type": "code",
   "execution_count": 109,
   "metadata": {
    "colab": {
     "base_uri": "https://localhost:8080/",
     "height": 488
    },
    "id": "EAYG5HOXcclq",
    "outputId": "543828c4-80d6-4d95-a997-beac13af3cb9"
   },
   "outputs": [
    {
     "data": {
      "text/html": [
       "<div>\n",
       "<style scoped>\n",
       "    .dataframe tbody tr th:only-of-type {\n",
       "        vertical-align: middle;\n",
       "    }\n",
       "\n",
       "    .dataframe tbody tr th {\n",
       "        vertical-align: top;\n",
       "    }\n",
       "\n",
       "    .dataframe thead th {\n",
       "        text-align: right;\n",
       "    }\n",
       "</style>\n",
       "<table border=\"1\" class=\"dataframe\">\n",
       "  <thead>\n",
       "    <tr style=\"text-align: right;\">\n",
       "      <th></th>\n",
       "      <th>amount_borrowed</th>\n",
       "      <th>term</th>\n",
       "      <th>borrower_rate</th>\n",
       "      <th>installment</th>\n",
       "      <th>grade</th>\n",
       "      <th>origination_date</th>\n",
       "      <th>listing_title</th>\n",
       "      <th>principal_balance</th>\n",
       "      <th>principal_paid</th>\n",
       "      <th>interest_paid</th>\n",
       "      <th>late_fees_paid</th>\n",
       "      <th>last_payment_date</th>\n",
       "      <th>next_payment_due_date</th>\n",
       "      <th>days_past_due</th>\n",
       "      <th>loan_status_description</th>\n",
       "    </tr>\n",
       "  </thead>\n",
       "  <tbody>\n",
       "    <tr>\n",
       "      <th>0</th>\n",
       "      <td>5100</td>\n",
       "      <td>36</td>\n",
       "      <td>0.0916</td>\n",
       "      <td>162.56</td>\n",
       "      <td>B</td>\n",
       "      <td>2016-02-01T00:00</td>\n",
       "      <td>credit_card</td>\n",
       "      <td>1256.87</td>\n",
       "      <td>3843.13</td>\n",
       "      <td>705.95</td>\n",
       "      <td>0.0</td>\n",
       "      <td>2018-06-01T00:00</td>\n",
       "      <td>2018-07-01T00:00</td>\n",
       "      <td>60</td>\n",
       "      <td>CURRENT</td>\n",
       "    </tr>\n",
       "    <tr>\n",
       "      <th>1</th>\n",
       "      <td>11775</td>\n",
       "      <td>60</td>\n",
       "      <td>0.1786</td>\n",
       "      <td>298.12</td>\n",
       "      <td>D</td>\n",
       "      <td>2015-03-01T00:00</td>\n",
       "      <td>debt_consolidation</td>\n",
       "      <td>0.00</td>\n",
       "      <td>2356.98</td>\n",
       "      <td>2687.69</td>\n",
       "      <td>0.0</td>\n",
       "      <td>2016-09-01T00:00</td>\n",
       "      <td>2016-10-01T00:00</td>\n",
       "      <td>698</td>\n",
       "      <td>CHARGEOFF</td>\n",
       "    </tr>\n",
       "    <tr>\n",
       "      <th>2</th>\n",
       "      <td>20000</td>\n",
       "      <td>36</td>\n",
       "      <td>0.0839</td>\n",
       "      <td>630.34</td>\n",
       "      <td>A</td>\n",
       "      <td>2014-10-01T00:00</td>\n",
       "      <td>debt_consolidation</td>\n",
       "      <td>0.00</td>\n",
       "      <td>20000.00</td>\n",
       "      <td>2668.60</td>\n",
       "      <td>0.0</td>\n",
       "      <td>2017-10-01T00:00</td>\n",
       "      <td>2017-11-01T00:00</td>\n",
       "      <td>0</td>\n",
       "      <td>COMPLETED</td>\n",
       "    </tr>\n",
       "    <tr>\n",
       "      <th>3</th>\n",
       "      <td>6000</td>\n",
       "      <td>36</td>\n",
       "      <td>0.0649</td>\n",
       "      <td>183.87</td>\n",
       "      <td>A</td>\n",
       "      <td>2016-02-01T00:00</td>\n",
       "      <td>debt_consolidation</td>\n",
       "      <td>0.00</td>\n",
       "      <td>6000.00</td>\n",
       "      <td>346.34</td>\n",
       "      <td>0.0</td>\n",
       "      <td>2017-02-01T00:00</td>\n",
       "      <td>2017-03-01T00:00</td>\n",
       "      <td>0</td>\n",
       "      <td>COMPLETED</td>\n",
       "    </tr>\n",
       "    <tr>\n",
       "      <th>4</th>\n",
       "      <td>22500</td>\n",
       "      <td>36</td>\n",
       "      <td>0.0662</td>\n",
       "      <td>690.84</td>\n",
       "      <td>A</td>\n",
       "      <td>2014-05-01T00:00</td>\n",
       "      <td>debt_consolidation</td>\n",
       "      <td>0.00</td>\n",
       "      <td>22500.00</td>\n",
       "      <td>1240.16</td>\n",
       "      <td>0.0</td>\n",
       "      <td>2015-12-01T00:00</td>\n",
       "      <td>2016-01-01T00:00</td>\n",
       "      <td>0</td>\n",
       "      <td>COMPLETED</td>\n",
       "    </tr>\n",
       "    <tr>\n",
       "      <th>...</th>\n",
       "      <td>...</td>\n",
       "      <td>...</td>\n",
       "      <td>...</td>\n",
       "      <td>...</td>\n",
       "      <td>...</td>\n",
       "      <td>...</td>\n",
       "      <td>...</td>\n",
       "      <td>...</td>\n",
       "      <td>...</td>\n",
       "      <td>...</td>\n",
       "      <td>...</td>\n",
       "      <td>...</td>\n",
       "      <td>...</td>\n",
       "      <td>...</td>\n",
       "      <td>...</td>\n",
       "    </tr>\n",
       "    <tr>\n",
       "      <th>943690</th>\n",
       "      <td>35000</td>\n",
       "      <td>36</td>\n",
       "      <td>0.1449</td>\n",
       "      <td>1204.57</td>\n",
       "      <td>C</td>\n",
       "      <td>2014-10-01T00:00</td>\n",
       "      <td>debt_consolidation</td>\n",
       "      <td>0.00</td>\n",
       "      <td>8258.31</td>\n",
       "      <td>3787.39</td>\n",
       "      <td>0.0</td>\n",
       "      <td>2015-08-01T00:00</td>\n",
       "      <td>2015-09-01T00:00</td>\n",
       "      <td>1094</td>\n",
       "      <td>CHARGEOFF</td>\n",
       "    </tr>\n",
       "    <tr>\n",
       "      <th>943691</th>\n",
       "      <td>21000</td>\n",
       "      <td>36</td>\n",
       "      <td>0.1249</td>\n",
       "      <td>702.43</td>\n",
       "      <td>B</td>\n",
       "      <td>2014-04-01T00:00</td>\n",
       "      <td>debt_consolidation</td>\n",
       "      <td>0.00</td>\n",
       "      <td>21000.00</td>\n",
       "      <td>1996.93</td>\n",
       "      <td>0.0</td>\n",
       "      <td>2015-02-01T00:00</td>\n",
       "      <td>2015-03-01T00:00</td>\n",
       "      <td>0</td>\n",
       "      <td>COMPLETED</td>\n",
       "    </tr>\n",
       "    <tr>\n",
       "      <th>943692</th>\n",
       "      <td>8875</td>\n",
       "      <td>36</td>\n",
       "      <td>0.1212</td>\n",
       "      <td>295.29</td>\n",
       "      <td>B</td>\n",
       "      <td>2013-01-01T00:00</td>\n",
       "      <td>debt_consolidation</td>\n",
       "      <td>0.00</td>\n",
       "      <td>8875.00</td>\n",
       "      <td>1427.85</td>\n",
       "      <td>0.0</td>\n",
       "      <td>2014-11-01T00:00</td>\n",
       "      <td>2014-12-01T00:00</td>\n",
       "      <td>0</td>\n",
       "      <td>COMPLETED</td>\n",
       "    </tr>\n",
       "    <tr>\n",
       "      <th>943693</th>\n",
       "      <td>12500</td>\n",
       "      <td>36</td>\n",
       "      <td>0.0726</td>\n",
       "      <td>387.46</td>\n",
       "      <td>A</td>\n",
       "      <td>2015-06-01T00:00</td>\n",
       "      <td>debt_consolidation</td>\n",
       "      <td>0.00</td>\n",
       "      <td>12500.00</td>\n",
       "      <td>52.94</td>\n",
       "      <td>0.0</td>\n",
       "      <td>2015-07-01T00:00</td>\n",
       "      <td>2015-08-01T00:00</td>\n",
       "      <td>0</td>\n",
       "      <td>COMPLETED</td>\n",
       "    </tr>\n",
       "    <tr>\n",
       "      <th>943694</th>\n",
       "      <td>8000</td>\n",
       "      <td>36</td>\n",
       "      <td>0.1114</td>\n",
       "      <td>262.45</td>\n",
       "      <td>B</td>\n",
       "      <td>2013-02-01T00:00</td>\n",
       "      <td>debt_consolidation</td>\n",
       "      <td>0.00</td>\n",
       "      <td>8000.00</td>\n",
       "      <td>1447.79</td>\n",
       "      <td>0.0</td>\n",
       "      <td>2016-02-01T00:00</td>\n",
       "      <td>2016-03-01T00:00</td>\n",
       "      <td>0</td>\n",
       "      <td>COMPLETED</td>\n",
       "    </tr>\n",
       "  </tbody>\n",
       "</table>\n",
       "<p>943695 rows × 15 columns</p>\n",
       "</div>"
      ],
      "text/plain": [
       "        amount_borrowed  term  borrower_rate  installment grade  \\\n",
       "0                  5100    36         0.0916       162.56     B   \n",
       "1                 11775    60         0.1786       298.12     D   \n",
       "2                 20000    36         0.0839       630.34     A   \n",
       "3                  6000    36         0.0649       183.87     A   \n",
       "4                 22500    36         0.0662       690.84     A   \n",
       "...                 ...   ...            ...          ...   ...   \n",
       "943690            35000    36         0.1449      1204.57     C   \n",
       "943691            21000    36         0.1249       702.43     B   \n",
       "943692             8875    36         0.1212       295.29     B   \n",
       "943693            12500    36         0.0726       387.46     A   \n",
       "943694             8000    36         0.1114       262.45     B   \n",
       "\n",
       "        origination_date       listing_title  principal_balance  \\\n",
       "0       2016-02-01T00:00         credit_card            1256.87   \n",
       "1       2015-03-01T00:00  debt_consolidation               0.00   \n",
       "2       2014-10-01T00:00  debt_consolidation               0.00   \n",
       "3       2016-02-01T00:00  debt_consolidation               0.00   \n",
       "4       2014-05-01T00:00  debt_consolidation               0.00   \n",
       "...                  ...                 ...                ...   \n",
       "943690  2014-10-01T00:00  debt_consolidation               0.00   \n",
       "943691  2014-04-01T00:00  debt_consolidation               0.00   \n",
       "943692  2013-01-01T00:00  debt_consolidation               0.00   \n",
       "943693  2015-06-01T00:00  debt_consolidation               0.00   \n",
       "943694  2013-02-01T00:00  debt_consolidation               0.00   \n",
       "\n",
       "        principal_paid  interest_paid  late_fees_paid last_payment_date  \\\n",
       "0              3843.13         705.95             0.0  2018-06-01T00:00   \n",
       "1              2356.98        2687.69             0.0  2016-09-01T00:00   \n",
       "2             20000.00        2668.60             0.0  2017-10-01T00:00   \n",
       "3              6000.00         346.34             0.0  2017-02-01T00:00   \n",
       "4             22500.00        1240.16             0.0  2015-12-01T00:00   \n",
       "...                ...            ...             ...               ...   \n",
       "943690         8258.31        3787.39             0.0  2015-08-01T00:00   \n",
       "943691        21000.00        1996.93             0.0  2015-02-01T00:00   \n",
       "943692         8875.00        1427.85             0.0  2014-11-01T00:00   \n",
       "943693        12500.00          52.94             0.0  2015-07-01T00:00   \n",
       "943694         8000.00        1447.79             0.0  2016-02-01T00:00   \n",
       "\n",
       "       next_payment_due_date  days_past_due loan_status_description  \n",
       "0           2018-07-01T00:00             60                 CURRENT  \n",
       "1           2016-10-01T00:00            698               CHARGEOFF  \n",
       "2           2017-11-01T00:00              0               COMPLETED  \n",
       "3           2017-03-01T00:00              0               COMPLETED  \n",
       "4           2016-01-01T00:00              0               COMPLETED  \n",
       "...                      ...            ...                     ...  \n",
       "943690      2015-09-01T00:00           1094               CHARGEOFF  \n",
       "943691      2015-03-01T00:00              0               COMPLETED  \n",
       "943692      2014-12-01T00:00              0               COMPLETED  \n",
       "943693      2015-08-01T00:00              0               COMPLETED  \n",
       "943694      2016-03-01T00:00              0               COMPLETED  \n",
       "\n",
       "[943695 rows x 15 columns]"
      ]
     },
     "execution_count": 109,
     "metadata": {},
     "output_type": "execute_result"
    }
   ],
   "source": [
    "df"
   ]
  },
  {
   "cell_type": "code",
   "execution_count": 110,
   "metadata": {},
   "outputs": [
    {
     "data": {
      "text/plain": [
       "amount_borrowed            0\n",
       "term                       0\n",
       "borrower_rate              0\n",
       "installment                0\n",
       "grade                      0\n",
       "origination_date           0\n",
       "listing_title              0\n",
       "principal_balance          0\n",
       "principal_paid             0\n",
       "interest_paid              0\n",
       "late_fees_paid             0\n",
       "last_payment_date          0\n",
       "next_payment_due_date      0\n",
       "days_past_due              0\n",
       "loan_status_description    0\n",
       "dtype: int64"
      ]
     },
     "execution_count": 110,
     "metadata": {},
     "output_type": "execute_result"
    }
   ],
   "source": [
    "df.isnull().sum()"
   ]
  },
  {
   "cell_type": "code",
   "execution_count": 111,
   "metadata": {},
   "outputs": [
    {
     "name": "stdout",
     "output_type": "stream",
     "text": [
      "<class 'pandas.core.frame.DataFrame'>\n",
      "RangeIndex: 943695 entries, 0 to 943694\n",
      "Data columns (total 15 columns):\n",
      " #   Column                   Non-Null Count   Dtype  \n",
      "---  ------                   --------------   -----  \n",
      " 0   amount_borrowed          943695 non-null  int64  \n",
      " 1   term                     943695 non-null  int64  \n",
      " 2   borrower_rate            943695 non-null  float64\n",
      " 3   installment              943695 non-null  float64\n",
      " 4   grade                    943695 non-null  object \n",
      " 5   origination_date         943695 non-null  object \n",
      " 6   listing_title            943695 non-null  object \n",
      " 7   principal_balance        943695 non-null  float64\n",
      " 8   principal_paid           943695 non-null  float64\n",
      " 9   interest_paid            943695 non-null  float64\n",
      " 10  late_fees_paid           943695 non-null  float64\n",
      " 11  last_payment_date        943695 non-null  object \n",
      " 12  next_payment_due_date    943695 non-null  object \n",
      " 13  days_past_due            943695 non-null  int64  \n",
      " 14  loan_status_description  943695 non-null  object \n",
      "dtypes: float64(6), int64(3), object(6)\n",
      "memory usage: 108.0+ MB\n"
     ]
    }
   ],
   "source": [
    "df.info()"
   ]
  },
  {
   "cell_type": "code",
   "execution_count": 112,
   "metadata": {
    "id": "P0dSwJwLdBz7"
   },
   "outputs": [],
   "source": [
    "# df = df[df.listing_title.isna()==False]"
   ]
  },
  {
   "cell_type": "code",
   "execution_count": 113,
   "metadata": {
    "colab": {
     "base_uri": "https://localhost:8080/",
     "height": 400
    },
    "id": "Ab0zY2eDdOeh",
    "outputId": "b4bc3e31-2248-45d2-d623-795ad286030c"
   },
   "outputs": [
    {
     "data": {
      "text/plain": [
       "<AxesSubplot:>"
      ]
     },
     "execution_count": 113,
     "metadata": {},
     "output_type": "execute_result"
    },
    {
     "data": {
      "image/png": "[encoded data removed]",
      "text/plain": [
       "<Figure size 432x288 with 2 Axes>"
      ]
     },
     "metadata": {
      "needs_background": "light"
     },
     "output_type": "display_data"
    }
   ],
   "source": [
    "sns.heatmap(df.isnull())"
   ]
  },
  {
   "cell_type": "code",
   "execution_count": 114,
   "metadata": {
    "colab": {
     "base_uri": "https://localhost:8080/",
     "height": 364
    },
    "id": "AO8DF7CJdkNn",
    "outputId": "5f17acae-8604-4e9e-b4d8-3daa3bbeff47"
   },
   "outputs": [
    {
     "data": {
      "text/html": [
       "<div>\n",
       "<style scoped>\n",
       "    .dataframe tbody tr th:only-of-type {\n",
       "        vertical-align: middle;\n",
       "    }\n",
       "\n",
       "    .dataframe tbody tr th {\n",
       "        vertical-align: top;\n",
       "    }\n",
       "\n",
       "    .dataframe thead th {\n",
       "        text-align: right;\n",
       "    }\n",
       "</style>\n",
       "<table border=\"1\" class=\"dataframe\">\n",
       "  <thead>\n",
       "    <tr style=\"text-align: right;\">\n",
       "      <th></th>\n",
       "      <th>amount_borrowed</th>\n",
       "      <th>term</th>\n",
       "      <th>borrower_rate</th>\n",
       "      <th>installment</th>\n",
       "      <th>principal_balance</th>\n",
       "      <th>principal_paid</th>\n",
       "      <th>interest_paid</th>\n",
       "      <th>late_fees_paid</th>\n",
       "      <th>days_past_due</th>\n",
       "    </tr>\n",
       "  </thead>\n",
       "  <tbody>\n",
       "    <tr>\n",
       "      <th>count</th>\n",
       "      <td>943695.000000</td>\n",
       "      <td>943695.000000</td>\n",
       "      <td>943695.000000</td>\n",
       "      <td>943695.000000</td>\n",
       "      <td>943695.000000</td>\n",
       "      <td>943695.000000</td>\n",
       "      <td>943695.000000</td>\n",
       "      <td>9.436950e+05</td>\n",
       "      <td>943695.000000</td>\n",
       "    </tr>\n",
       "    <tr>\n",
       "      <th>mean</th>\n",
       "      <td>14999.131208</td>\n",
       "      <td>43.084628</td>\n",
       "      <td>0.131430</td>\n",
       "      <td>444.594365</td>\n",
       "      <td>1436.999439</td>\n",
       "      <td>11848.230748</td>\n",
       "      <td>2980.574012</td>\n",
       "      <td>1.425244e+00</td>\n",
       "      <td>140.118332</td>\n",
       "    </tr>\n",
       "    <tr>\n",
       "      <th>std</th>\n",
       "      <td>8531.291105</td>\n",
       "      <td>10.947111</td>\n",
       "      <td>0.045034</td>\n",
       "      <td>248.494920</td>\n",
       "      <td>3616.262480</td>\n",
       "      <td>8129.398374</td>\n",
       "      <td>2986.744696</td>\n",
       "      <td>1.042645e+01</td>\n",
       "      <td>335.127080</td>\n",
       "    </tr>\n",
       "    <tr>\n",
       "      <th>min</th>\n",
       "      <td>1000.000000</td>\n",
       "      <td>36.000000</td>\n",
       "      <td>0.053200</td>\n",
       "      <td>4.930000</td>\n",
       "      <td>0.000000</td>\n",
       "      <td>0.000000</td>\n",
       "      <td>0.000000</td>\n",
       "      <td>-9.500000e-09</td>\n",
       "      <td>0.000000</td>\n",
       "    </tr>\n",
       "    <tr>\n",
       "      <th>25%</th>\n",
       "      <td>8275.000000</td>\n",
       "      <td>36.000000</td>\n",
       "      <td>0.097500</td>\n",
       "      <td>264.000000</td>\n",
       "      <td>0.000000</td>\n",
       "      <td>5684.245000</td>\n",
       "      <td>1012.320000</td>\n",
       "      <td>0.000000e+00</td>\n",
       "      <td>0.000000</td>\n",
       "    </tr>\n",
       "    <tr>\n",
       "      <th>50%</th>\n",
       "      <td>13475.000000</td>\n",
       "      <td>36.000000</td>\n",
       "      <td>0.128800</td>\n",
       "      <td>388.060000</td>\n",
       "      <td>0.000000</td>\n",
       "      <td>10000.000000</td>\n",
       "      <td>1977.780000</td>\n",
       "      <td>0.000000e+00</td>\n",
       "      <td>0.000000</td>\n",
       "    </tr>\n",
       "    <tr>\n",
       "      <th>75%</th>\n",
       "      <td>20000.000000</td>\n",
       "      <td>60.000000</td>\n",
       "      <td>0.159900</td>\n",
       "      <td>583.550000</td>\n",
       "      <td>0.000000</td>\n",
       "      <td>16000.000000</td>\n",
       "      <td>3879.830000</td>\n",
       "      <td>0.000000e+00</td>\n",
       "      <td>60.000000</td>\n",
       "    </tr>\n",
       "    <tr>\n",
       "      <th>max</th>\n",
       "      <td>40000.000000</td>\n",
       "      <td>60.000000</td>\n",
       "      <td>0.309900</td>\n",
       "      <td>1569.110000</td>\n",
       "      <td>30667.440000</td>\n",
       "      <td>40000.000000</td>\n",
       "      <td>27884.800000</td>\n",
       "      <td>1.188830e+03</td>\n",
       "      <td>2402.000000</td>\n",
       "    </tr>\n",
       "  </tbody>\n",
       "</table>\n",
       "</div>"
      ],
      "text/plain": [
       "       amount_borrowed           term  borrower_rate    installment  \\\n",
       "count    943695.000000  943695.000000  943695.000000  943695.000000   \n",
       "mean      14999.131208      43.084628       0.131430     444.594365   \n",
       "std        8531.291105      10.947111       0.045034     248.494920   \n",
       "min        1000.000000      36.000000       0.053200       4.930000   \n",
       "25%        8275.000000      36.000000       0.097500     264.000000   \n",
       "50%       13475.000000      36.000000       0.128800     388.060000   \n",
       "75%       20000.000000      60.000000       0.159900     583.550000   \n",
       "max       40000.000000      60.000000       0.309900    1569.110000   \n",
       "\n",
       "       principal_balance  principal_paid  interest_paid  late_fees_paid  \\\n",
       "count      943695.000000   943695.000000  943695.000000    9.436950e+05   \n",
       "mean         1436.999439    11848.230748    2980.574012    1.425244e+00   \n",
       "std          3616.262480     8129.398374    2986.744696    1.042645e+01   \n",
       "min             0.000000        0.000000       0.000000   -9.500000e-09   \n",
       "25%             0.000000     5684.245000    1012.320000    0.000000e+00   \n",
       "50%             0.000000    10000.000000    1977.780000    0.000000e+00   \n",
       "75%             0.000000    16000.000000    3879.830000    0.000000e+00   \n",
       "max         30667.440000    40000.000000   27884.800000    1.188830e+03   \n",
       "\n",
       "       days_past_due  \n",
       "count  943695.000000  \n",
       "mean      140.118332  \n",
       "std       335.127080  \n",
       "min         0.000000  \n",
       "25%         0.000000  \n",
       "50%         0.000000  \n",
       "75%        60.000000  \n",
       "max      2402.000000  "
      ]
     },
     "execution_count": 114,
     "metadata": {},
     "output_type": "execute_result"
    }
   ],
   "source": [
    "df.describe()"
   ]
  },
  {
   "cell_type": "code",
   "execution_count": 115,
   "metadata": {
    "colab": {
     "base_uri": "https://localhost:8080/",
     "height": 395
    },
    "id": "wNZfH95-elpT",
    "outputId": "0b5aacd3-5718-40c4-d351-a80c0eeaaada"
   },
   "outputs": [
    {
     "data": {
      "text/html": [
       "<div>\n",
       "<style scoped>\n",
       "    .dataframe tbody tr th:only-of-type {\n",
       "        vertical-align: middle;\n",
       "    }\n",
       "\n",
       "    .dataframe tbody tr th {\n",
       "        vertical-align: top;\n",
       "    }\n",
       "\n",
       "    .dataframe thead th {\n",
       "        text-align: right;\n",
       "    }\n",
       "</style>\n",
       "<table border=\"1\" class=\"dataframe\">\n",
       "  <thead>\n",
       "    <tr style=\"text-align: right;\">\n",
       "      <th></th>\n",
       "      <th>amount_borrowed</th>\n",
       "      <th>term</th>\n",
       "      <th>borrower_rate</th>\n",
       "      <th>installment</th>\n",
       "      <th>principal_balance</th>\n",
       "      <th>principal_paid</th>\n",
       "      <th>interest_paid</th>\n",
       "      <th>late_fees_paid</th>\n",
       "      <th>days_past_due</th>\n",
       "    </tr>\n",
       "  </thead>\n",
       "  <tbody>\n",
       "    <tr>\n",
       "      <th>amount_borrowed</th>\n",
       "      <td>1.000000</td>\n",
       "      <td>0.404721</td>\n",
       "      <td>0.129925</td>\n",
       "      <td>0.945062</td>\n",
       "      <td>0.324069</td>\n",
       "      <td>0.767360</td>\n",
       "      <td>0.675308</td>\n",
       "      <td>0.079885</td>\n",
       "      <td>0.020324</td>\n",
       "    </tr>\n",
       "    <tr>\n",
       "      <th>term</th>\n",
       "      <td>0.404721</td>\n",
       "      <td>1.000000</td>\n",
       "      <td>0.416953</td>\n",
       "      <td>0.137152</td>\n",
       "      <td>0.405607</td>\n",
       "      <td>0.112248</td>\n",
       "      <td>0.571364</td>\n",
       "      <td>0.029027</td>\n",
       "      <td>0.089716</td>\n",
       "    </tr>\n",
       "    <tr>\n",
       "      <th>borrower_rate</th>\n",
       "      <td>0.129925</td>\n",
       "      <td>0.416953</td>\n",
       "      <td>1.000000</td>\n",
       "      <td>0.125973</td>\n",
       "      <td>0.070002</td>\n",
       "      <td>-0.052572</td>\n",
       "      <td>0.463918</td>\n",
       "      <td>0.067478</td>\n",
       "      <td>0.224443</td>\n",
       "    </tr>\n",
       "    <tr>\n",
       "      <th>installment</th>\n",
       "      <td>0.945062</td>\n",
       "      <td>0.137152</td>\n",
       "      <td>0.125973</td>\n",
       "      <td>1.000000</td>\n",
       "      <td>0.189235</td>\n",
       "      <td>0.782357</td>\n",
       "      <td>0.576994</td>\n",
       "      <td>0.086896</td>\n",
       "      <td>0.022600</td>\n",
       "    </tr>\n",
       "    <tr>\n",
       "      <th>principal_balance</th>\n",
       "      <td>0.324069</td>\n",
       "      <td>0.405607</td>\n",
       "      <td>0.070002</td>\n",
       "      <td>0.189235</td>\n",
       "      <td>1.000000</td>\n",
       "      <td>-0.020947</td>\n",
       "      <td>0.456419</td>\n",
       "      <td>0.048649</td>\n",
       "      <td>-0.104627</td>\n",
       "    </tr>\n",
       "    <tr>\n",
       "      <th>principal_paid</th>\n",
       "      <td>0.767360</td>\n",
       "      <td>0.112248</td>\n",
       "      <td>-0.052572</td>\n",
       "      <td>0.782357</td>\n",
       "      <td>-0.020947</td>\n",
       "      <td>1.000000</td>\n",
       "      <td>0.460849</td>\n",
       "      <td>0.006889</td>\n",
       "      <td>-0.377698</td>\n",
       "    </tr>\n",
       "    <tr>\n",
       "      <th>interest_paid</th>\n",
       "      <td>0.675308</td>\n",
       "      <td>0.571364</td>\n",
       "      <td>0.463918</td>\n",
       "      <td>0.576994</td>\n",
       "      <td>0.456419</td>\n",
       "      <td>0.460849</td>\n",
       "      <td>1.000000</td>\n",
       "      <td>0.107191</td>\n",
       "      <td>-0.043703</td>\n",
       "    </tr>\n",
       "    <tr>\n",
       "      <th>late_fees_paid</th>\n",
       "      <td>0.079885</td>\n",
       "      <td>0.029027</td>\n",
       "      <td>0.067478</td>\n",
       "      <td>0.086896</td>\n",
       "      <td>0.048649</td>\n",
       "      <td>0.006889</td>\n",
       "      <td>0.107191</td>\n",
       "      <td>1.000000</td>\n",
       "      <td>0.051629</td>\n",
       "    </tr>\n",
       "    <tr>\n",
       "      <th>days_past_due</th>\n",
       "      <td>0.020324</td>\n",
       "      <td>0.089716</td>\n",
       "      <td>0.224443</td>\n",
       "      <td>0.022600</td>\n",
       "      <td>-0.104627</td>\n",
       "      <td>-0.377698</td>\n",
       "      <td>-0.043703</td>\n",
       "      <td>0.051629</td>\n",
       "      <td>1.000000</td>\n",
       "    </tr>\n",
       "  </tbody>\n",
       "</table>\n",
       "</div>"
      ],
      "text/plain": [
       "                   amount_borrowed      term  borrower_rate  installment  \\\n",
       "amount_borrowed           1.000000  0.404721       0.129925     0.945062   \n",
       "term                      0.404721  1.000000       0.416953     0.137152   \n",
       "borrower_rate             0.129925  0.416953       1.000000     0.125973   \n",
       "installment               0.945062  0.137152       0.125973     1.000000   \n",
       "principal_balance         0.324069  0.405607       0.070002     0.189235   \n",
       "principal_paid            0.767360  0.112248      -0.052572     0.782357   \n",
       "interest_paid             0.675308  0.571364       0.463918     0.576994   \n",
       "late_fees_paid            0.079885  0.029027       0.067478     0.086896   \n",
       "days_past_due             0.020324  0.089716       0.224443     0.022600   \n",
       "\n",
       "                   principal_balance  principal_paid  interest_paid  \\\n",
       "amount_borrowed             0.324069        0.767360       0.675308   \n",
       "term                        0.405607        0.112248       0.571364   \n",
       "borrower_rate               0.070002       -0.052572       0.463918   \n",
       "installment                 0.189235        0.782357       0.576994   \n",
       "principal_balance           1.000000       -0.020947       0.456419   \n",
       "principal_paid             -0.020947        1.000000       0.460849   \n",
       "interest_paid               0.456419        0.460849       1.000000   \n",
       "late_fees_paid              0.048649        0.006889       0.107191   \n",
       "days_past_due              -0.104627       -0.377698      -0.043703   \n",
       "\n",
       "                   late_fees_paid  days_past_due  \n",
       "amount_borrowed          0.079885       0.020324  \n",
       "term                     0.029027       0.089716  \n",
       "borrower_rate            0.067478       0.224443  \n",
       "installment              0.086896       0.022600  \n",
       "principal_balance        0.048649      -0.104627  \n",
       "principal_paid           0.006889      -0.377698  \n",
       "interest_paid            0.107191      -0.043703  \n",
       "late_fees_paid           1.000000       0.051629  \n",
       "days_past_due            0.051629       1.000000  "
      ]
     },
     "execution_count": 115,
     "metadata": {},
     "output_type": "execute_result"
    }
   ],
   "source": [
    "df.corr()"
   ]
  },
  {
   "cell_type": "code",
   "execution_count": 116,
   "metadata": {
    "id": "4X5Bld8henNd"
   },
   "outputs": [],
   "source": [
    "# sns.pairplot(df)"
   ]
  },
  {
   "cell_type": "code",
   "execution_count": 117,
   "metadata": {
    "colab": {
     "base_uri": "https://localhost:8080/",
     "height": 395
    },
    "id": "TmB7dU6_eqFK",
    "outputId": "3e18b42a-e05f-4927-c814-58cf978e7f84"
   },
   "outputs": [
    {
     "data": {
      "text/html": [
       "<div>\n",
       "<style scoped>\n",
       "    .dataframe tbody tr th:only-of-type {\n",
       "        vertical-align: middle;\n",
       "    }\n",
       "\n",
       "    .dataframe tbody tr th {\n",
       "        vertical-align: top;\n",
       "    }\n",
       "\n",
       "    .dataframe thead th {\n",
       "        text-align: right;\n",
       "    }\n",
       "</style>\n",
       "<table border=\"1\" class=\"dataframe\">\n",
       "  <thead>\n",
       "    <tr style=\"text-align: right;\">\n",
       "      <th></th>\n",
       "      <th>amount_borrowed</th>\n",
       "      <th>term</th>\n",
       "      <th>borrower_rate</th>\n",
       "      <th>installment</th>\n",
       "      <th>principal_balance</th>\n",
       "      <th>principal_paid</th>\n",
       "      <th>interest_paid</th>\n",
       "      <th>late_fees_paid</th>\n",
       "      <th>days_past_due</th>\n",
       "    </tr>\n",
       "  </thead>\n",
       "  <tbody>\n",
       "    <tr>\n",
       "      <th>amount_borrowed</th>\n",
       "      <td>1.000000</td>\n",
       "      <td>0.404721</td>\n",
       "      <td>0.129925</td>\n",
       "      <td>0.945062</td>\n",
       "      <td>0.324069</td>\n",
       "      <td>0.767360</td>\n",
       "      <td>0.675308</td>\n",
       "      <td>0.079885</td>\n",
       "      <td>0.020324</td>\n",
       "    </tr>\n",
       "    <tr>\n",
       "      <th>term</th>\n",
       "      <td>0.404721</td>\n",
       "      <td>1.000000</td>\n",
       "      <td>0.416953</td>\n",
       "      <td>0.137152</td>\n",
       "      <td>0.405607</td>\n",
       "      <td>0.112248</td>\n",
       "      <td>0.571364</td>\n",
       "      <td>0.029027</td>\n",
       "      <td>0.089716</td>\n",
       "    </tr>\n",
       "    <tr>\n",
       "      <th>borrower_rate</th>\n",
       "      <td>0.129925</td>\n",
       "      <td>0.416953</td>\n",
       "      <td>1.000000</td>\n",
       "      <td>0.125973</td>\n",
       "      <td>0.070002</td>\n",
       "      <td>-0.052572</td>\n",
       "      <td>0.463918</td>\n",
       "      <td>0.067478</td>\n",
       "      <td>0.224443</td>\n",
       "    </tr>\n",
       "    <tr>\n",
       "      <th>installment</th>\n",
       "      <td>0.945062</td>\n",
       "      <td>0.137152</td>\n",
       "      <td>0.125973</td>\n",
       "      <td>1.000000</td>\n",
       "      <td>0.189235</td>\n",
       "      <td>0.782357</td>\n",
       "      <td>0.576994</td>\n",
       "      <td>0.086896</td>\n",
       "      <td>0.022600</td>\n",
       "    </tr>\n",
       "    <tr>\n",
       "      <th>principal_balance</th>\n",
       "      <td>0.324069</td>\n",
       "      <td>0.405607</td>\n",
       "      <td>0.070002</td>\n",
       "      <td>0.189235</td>\n",
       "      <td>1.000000</td>\n",
       "      <td>-0.020947</td>\n",
       "      <td>0.456419</td>\n",
       "      <td>0.048649</td>\n",
       "      <td>-0.104627</td>\n",
       "    </tr>\n",
       "    <tr>\n",
       "      <th>principal_paid</th>\n",
       "      <td>0.767360</td>\n",
       "      <td>0.112248</td>\n",
       "      <td>-0.052572</td>\n",
       "      <td>0.782357</td>\n",
       "      <td>-0.020947</td>\n",
       "      <td>1.000000</td>\n",
       "      <td>0.460849</td>\n",
       "      <td>0.006889</td>\n",
       "      <td>-0.377698</td>\n",
       "    </tr>\n",
       "    <tr>\n",
       "      <th>interest_paid</th>\n",
       "      <td>0.675308</td>\n",
       "      <td>0.571364</td>\n",
       "      <td>0.463918</td>\n",
       "      <td>0.576994</td>\n",
       "      <td>0.456419</td>\n",
       "      <td>0.460849</td>\n",
       "      <td>1.000000</td>\n",
       "      <td>0.107191</td>\n",
       "      <td>-0.043703</td>\n",
       "    </tr>\n",
       "    <tr>\n",
       "      <th>late_fees_paid</th>\n",
       "      <td>0.079885</td>\n",
       "      <td>0.029027</td>\n",
       "      <td>0.067478</td>\n",
       "      <td>0.086896</td>\n",
       "      <td>0.048649</td>\n",
       "      <td>0.006889</td>\n",
       "      <td>0.107191</td>\n",
       "      <td>1.000000</td>\n",
       "      <td>0.051629</td>\n",
       "    </tr>\n",
       "    <tr>\n",
       "      <th>days_past_due</th>\n",
       "      <td>0.020324</td>\n",
       "      <td>0.089716</td>\n",
       "      <td>0.224443</td>\n",
       "      <td>0.022600</td>\n",
       "      <td>-0.104627</td>\n",
       "      <td>-0.377698</td>\n",
       "      <td>-0.043703</td>\n",
       "      <td>0.051629</td>\n",
       "      <td>1.000000</td>\n",
       "    </tr>\n",
       "  </tbody>\n",
       "</table>\n",
       "</div>"
      ],
      "text/plain": [
       "                   amount_borrowed      term  borrower_rate  installment  \\\n",
       "amount_borrowed           1.000000  0.404721       0.129925     0.945062   \n",
       "term                      0.404721  1.000000       0.416953     0.137152   \n",
       "borrower_rate             0.129925  0.416953       1.000000     0.125973   \n",
       "installment               0.945062  0.137152       0.125973     1.000000   \n",
       "principal_balance         0.324069  0.405607       0.070002     0.189235   \n",
       "principal_paid            0.767360  0.112248      -0.052572     0.782357   \n",
       "interest_paid             0.675308  0.571364       0.463918     0.576994   \n",
       "late_fees_paid            0.079885  0.029027       0.067478     0.086896   \n",
       "days_past_due             0.020324  0.089716       0.224443     0.022600   \n",
       "\n",
       "                   principal_balance  principal_paid  interest_paid  \\\n",
       "amount_borrowed             0.324069        0.767360       0.675308   \n",
       "term                        0.405607        0.112248       0.571364   \n",
       "borrower_rate               0.070002       -0.052572       0.463918   \n",
       "installment                 0.189235        0.782357       0.576994   \n",
       "principal_balance           1.000000       -0.020947       0.456419   \n",
       "principal_paid             -0.020947        1.000000       0.460849   \n",
       "interest_paid               0.456419        0.460849       1.000000   \n",
       "late_fees_paid              0.048649        0.006889       0.107191   \n",
       "days_past_due              -0.104627       -0.377698      -0.043703   \n",
       "\n",
       "                   late_fees_paid  days_past_due  \n",
       "amount_borrowed          0.079885       0.020324  \n",
       "term                     0.029027       0.089716  \n",
       "borrower_rate            0.067478       0.224443  \n",
       "installment              0.086896       0.022600  \n",
       "principal_balance        0.048649      -0.104627  \n",
       "principal_paid           0.006889      -0.377698  \n",
       "interest_paid            0.107191      -0.043703  \n",
       "late_fees_paid           1.000000       0.051629  \n",
       "days_past_due            0.051629       1.000000  "
      ]
     },
     "execution_count": 117,
     "metadata": {},
     "output_type": "execute_result"
    }
   ],
   "source": [
    "df.corr()"
   ]
  },
  {
   "cell_type": "code",
   "execution_count": 118,
   "metadata": {
    "colab": {
     "base_uri": "https://localhost:8080/"
    },
    "id": "lHMnBhH4fbge",
    "outputId": "07bdf69c-14eb-4265-fa20-60184185cbaf"
   },
   "outputs": [
    {
     "data": {
      "text/plain": [
       "array(['CURRENT', 'DEFAULTED'], dtype=object)"
      ]
     },
     "execution_count": 118,
     "metadata": {},
     "output_type": "execute_result"
    }
   ],
   "source": [
    "df[df.principal_balance!=0][\"loan_status_description\"].unique()"
   ]
  },
  {
   "cell_type": "code",
   "execution_count": 119,
   "metadata": {
    "id": "RaolIi9QgWml"
   },
   "outputs": [],
   "source": [
    "df = df.drop(\"listing_title\",axis=1)\n",
    "df1 = df1.drop(\"listing_title\",axis=1)"
   ]
  },
  {
   "cell_type": "code",
   "execution_count": 120,
   "metadata": {
    "colab": {
     "base_uri": "https://localhost:8080/"
    },
    "id": "CWXyTUbVj8qV",
    "outputId": "06badfe6-1b2d-4e53-e518-3319e68a105a"
   },
   "outputs": [
    {
     "data": {
      "text/plain": [
       "array([  60,  698,    0,   29,  575, 1125,  486, 1156, 1278, 1003,  547,\n",
       "        790,  425,  820,  210,  637, 1429,  667, 1521,  302,  759, 1186,\n",
       "       1459,   90,  272,  728,  606,  516, 1612,  881,  455, 1033,  241,\n",
       "       1490,  363,  182,  972, 1247, 1306, 1368,  333,  151,  394, 1398,\n",
       "        851, 1064,  912, 2098, 1643,  941, 1733, 1916, 1217, 1337, 1855,\n",
       "        121, 1702, 1794, 2128, 1824, 1094, 1671, 1551, 2008, 1582, 2036,\n",
       "       1977, 2220, 1947, 2159, 1886, 1763, 2067, 2251, 2189, 2402, 2281,\n",
       "       2342, 2373, 2312], dtype=int64)"
      ]
     },
     "execution_count": 120,
     "metadata": {},
     "output_type": "execute_result"
    }
   ],
   "source": [
    "df[\"days_past_due\"].unique()"
   ]
  },
  {
   "cell_type": "code",
   "execution_count": 121,
   "metadata": {
    "colab": {
     "base_uri": "https://localhost:8080/"
    },
    "id": "DT9yv-FskFbw",
    "outputId": "b761d89c-d56e-4cb7-88ac-13c6679cf8a9"
   },
   "outputs": [
    {
     "data": {
      "text/plain": [
       "182    388\n",
       "151     14\n",
       "29      10\n",
       "60       4\n",
       "90       1\n",
       "241      1\n",
       "210      1\n",
       "Name: days_past_due, dtype: int64"
      ]
     },
     "execution_count": 121,
     "metadata": {},
     "output_type": "execute_result"
    }
   ],
   "source": [
    "df[df.loan_status_description==\"DEFAULTED\"][\"days_past_due\"].value_counts()"
   ]
  },
  {
   "cell_type": "code",
   "execution_count": 122,
   "metadata": {
    "colab": {
     "base_uri": "https://localhost:8080/"
    },
    "id": "sN_Vc5qGkYTr",
    "outputId": "859563d0-7cae-4e2b-b6ea-a500f6348ec3"
   },
   "outputs": [
    {
     "data": {
      "text/plain": [
       "60     138757\n",
       "29      75972\n",
       "90       2435\n",
       "151      1694\n",
       "121      1659\n",
       "182       468\n",
       "Name: days_past_due, dtype: int64"
      ]
     },
     "execution_count": 122,
     "metadata": {},
     "output_type": "execute_result"
    }
   ],
   "source": [
    "df[df.loan_status_description==\"CURRENT\"][\"days_past_due\"].value_counts()"
   ]
  },
  {
   "cell_type": "code",
   "execution_count": 123,
   "metadata": {
    "colab": {
     "base_uri": "https://localhost:8080/"
    },
    "id": "5vSOAZIfkhDT",
    "outputId": "8dd7b0a5-9368-4e51-ecb2-533514900ec7"
   },
   "outputs": [
    {
     "data": {
      "text/plain": [
       "array(['CURRENT', 'CHARGEOFF', 'COMPLETED', 'DEFAULTED'], dtype=object)"
      ]
     },
     "execution_count": 123,
     "metadata": {},
     "output_type": "execute_result"
    }
   ],
   "source": [
    "df[\"loan_status_description\"].unique()"
   ]
  },
  {
   "cell_type": "code",
   "execution_count": 124,
   "metadata": {
    "colab": {
     "base_uri": "https://localhost:8080/"
    },
    "id": "YrWyaQlVkmIP",
    "outputId": "c46a61e9-bd19-4bf9-c2b6-84a7e1c8b9a1"
   },
   "outputs": [
    {
     "data": {
      "text/plain": [
       "698     5310\n",
       "728     5128\n",
       "759     5009\n",
       "667     4994\n",
       "790     4925\n",
       "        ... \n",
       "2281      32\n",
       "2312      20\n",
       "2342      14\n",
       "2373      10\n",
       "2402       4\n",
       "Name: days_past_due, Length: 79, dtype: int64"
      ]
     },
     "execution_count": 124,
     "metadata": {},
     "output_type": "execute_result"
    }
   ],
   "source": [
    "df[df.loan_status_description==\"CHARGEOFF\"][\"days_past_due\"].value_counts()"
   ]
  },
  {
   "cell_type": "code",
   "execution_count": 125,
   "metadata": {
    "colab": {
     "base_uri": "https://localhost:8080/",
     "height": 270
    },
    "id": "qmRkhbk0k6oN",
    "outputId": "5f00894a-456d-4a7b-f4bb-efb07a0cd357"
   },
   "outputs": [
    {
     "data": {
      "text/html": [
       "<div>\n",
       "<style scoped>\n",
       "    .dataframe tbody tr th:only-of-type {\n",
       "        vertical-align: middle;\n",
       "    }\n",
       "\n",
       "    .dataframe tbody tr th {\n",
       "        vertical-align: top;\n",
       "    }\n",
       "\n",
       "    .dataframe thead th {\n",
       "        text-align: right;\n",
       "    }\n",
       "</style>\n",
       "<table border=\"1\" class=\"dataframe\">\n",
       "  <thead>\n",
       "    <tr style=\"text-align: right;\">\n",
       "      <th></th>\n",
       "      <th>amount_borrowed</th>\n",
       "      <th>term</th>\n",
       "      <th>borrower_rate</th>\n",
       "      <th>installment</th>\n",
       "      <th>grade</th>\n",
       "      <th>origination_date</th>\n",
       "      <th>principal_balance</th>\n",
       "      <th>principal_paid</th>\n",
       "      <th>interest_paid</th>\n",
       "      <th>late_fees_paid</th>\n",
       "      <th>last_payment_date</th>\n",
       "      <th>next_payment_due_date</th>\n",
       "      <th>days_past_due</th>\n",
       "      <th>loan_status_description</th>\n",
       "    </tr>\n",
       "  </thead>\n",
       "  <tbody>\n",
       "    <tr>\n",
       "      <th>0</th>\n",
       "      <td>5100</td>\n",
       "      <td>36</td>\n",
       "      <td>0.0916</td>\n",
       "      <td>162.56</td>\n",
       "      <td>B</td>\n",
       "      <td>2016-02-01T00:00</td>\n",
       "      <td>1256.87</td>\n",
       "      <td>3843.13</td>\n",
       "      <td>705.95</td>\n",
       "      <td>0.0</td>\n",
       "      <td>2018-06-01T00:00</td>\n",
       "      <td>2018-07-01T00:00</td>\n",
       "      <td>60</td>\n",
       "      <td>CURRENT</td>\n",
       "    </tr>\n",
       "    <tr>\n",
       "      <th>1</th>\n",
       "      <td>11775</td>\n",
       "      <td>60</td>\n",
       "      <td>0.1786</td>\n",
       "      <td>298.12</td>\n",
       "      <td>D</td>\n",
       "      <td>2015-03-01T00:00</td>\n",
       "      <td>0.00</td>\n",
       "      <td>2356.98</td>\n",
       "      <td>2687.69</td>\n",
       "      <td>0.0</td>\n",
       "      <td>2016-09-01T00:00</td>\n",
       "      <td>2016-10-01T00:00</td>\n",
       "      <td>698</td>\n",
       "      <td>CHARGEOFF</td>\n",
       "    </tr>\n",
       "    <tr>\n",
       "      <th>2</th>\n",
       "      <td>20000</td>\n",
       "      <td>36</td>\n",
       "      <td>0.0839</td>\n",
       "      <td>630.34</td>\n",
       "      <td>A</td>\n",
       "      <td>2014-10-01T00:00</td>\n",
       "      <td>0.00</td>\n",
       "      <td>20000.00</td>\n",
       "      <td>2668.60</td>\n",
       "      <td>0.0</td>\n",
       "      <td>2017-10-01T00:00</td>\n",
       "      <td>2017-11-01T00:00</td>\n",
       "      <td>0</td>\n",
       "      <td>COMPLETED</td>\n",
       "    </tr>\n",
       "    <tr>\n",
       "      <th>3</th>\n",
       "      <td>6000</td>\n",
       "      <td>36</td>\n",
       "      <td>0.0649</td>\n",
       "      <td>183.87</td>\n",
       "      <td>A</td>\n",
       "      <td>2016-02-01T00:00</td>\n",
       "      <td>0.00</td>\n",
       "      <td>6000.00</td>\n",
       "      <td>346.34</td>\n",
       "      <td>0.0</td>\n",
       "      <td>2017-02-01T00:00</td>\n",
       "      <td>2017-03-01T00:00</td>\n",
       "      <td>0</td>\n",
       "      <td>COMPLETED</td>\n",
       "    </tr>\n",
       "    <tr>\n",
       "      <th>4</th>\n",
       "      <td>22500</td>\n",
       "      <td>36</td>\n",
       "      <td>0.0662</td>\n",
       "      <td>690.84</td>\n",
       "      <td>A</td>\n",
       "      <td>2014-05-01T00:00</td>\n",
       "      <td>0.00</td>\n",
       "      <td>22500.00</td>\n",
       "      <td>1240.16</td>\n",
       "      <td>0.0</td>\n",
       "      <td>2015-12-01T00:00</td>\n",
       "      <td>2016-01-01T00:00</td>\n",
       "      <td>0</td>\n",
       "      <td>COMPLETED</td>\n",
       "    </tr>\n",
       "  </tbody>\n",
       "</table>\n",
       "</div>"
      ],
      "text/plain": [
       "   amount_borrowed  term  borrower_rate  installment grade  origination_date  \\\n",
       "0             5100    36         0.0916       162.56     B  2016-02-01T00:00   \n",
       "1            11775    60         0.1786       298.12     D  2015-03-01T00:00   \n",
       "2            20000    36         0.0839       630.34     A  2014-10-01T00:00   \n",
       "3             6000    36         0.0649       183.87     A  2016-02-01T00:00   \n",
       "4            22500    36         0.0662       690.84     A  2014-05-01T00:00   \n",
       "\n",
       "   principal_balance  principal_paid  interest_paid  late_fees_paid  \\\n",
       "0            1256.87         3843.13         705.95             0.0   \n",
       "1               0.00         2356.98        2687.69             0.0   \n",
       "2               0.00        20000.00        2668.60             0.0   \n",
       "3               0.00         6000.00         346.34             0.0   \n",
       "4               0.00        22500.00        1240.16             0.0   \n",
       "\n",
       "  last_payment_date next_payment_due_date  days_past_due  \\\n",
       "0  2018-06-01T00:00      2018-07-01T00:00             60   \n",
       "1  2016-09-01T00:00      2016-10-01T00:00            698   \n",
       "2  2017-10-01T00:00      2017-11-01T00:00              0   \n",
       "3  2017-02-01T00:00      2017-03-01T00:00              0   \n",
       "4  2015-12-01T00:00      2016-01-01T00:00              0   \n",
       "\n",
       "  loan_status_description  \n",
       "0                 CURRENT  \n",
       "1               CHARGEOFF  \n",
       "2               COMPLETED  \n",
       "3               COMPLETED  \n",
       "4               COMPLETED  "
      ]
     },
     "execution_count": 125,
     "metadata": {},
     "output_type": "execute_result"
    }
   ],
   "source": [
    "df.head()"
   ]
  },
  {
   "cell_type": "code",
   "execution_count": 126,
   "metadata": {
    "colab": {
     "base_uri": "https://localhost:8080/"
    },
    "id": "AJod4dUvlTIe",
    "outputId": "87d759d7-1461-428f-90d9-14cb8edd44ba"
   },
   "outputs": [
    {
     "data": {
      "text/plain": [
       "<bound method Series.unique of 2         2017-11-01T00:00\n",
       "3         2017-03-01T00:00\n",
       "4         2016-01-01T00:00\n",
       "5         2017-01-01T00:00\n",
       "7         2016-05-01T00:00\n",
       "                ...       \n",
       "943688    2016-06-01T00:00\n",
       "943691    2015-03-01T00:00\n",
       "943692    2014-12-01T00:00\n",
       "943693    2015-08-01T00:00\n",
       "943694    2016-03-01T00:00\n",
       "Name: next_payment_due_date, Length: 574023, dtype: object>"
      ]
     },
     "execution_count": 126,
     "metadata": {},
     "output_type": "execute_result"
    }
   ],
   "source": [
    "df[df.loan_status_description==\"COMPLETED\"][\"next_payment_due_date\"].unique"
   ]
  },
  {
   "cell_type": "code",
   "execution_count": 127,
   "metadata": {
    "id": "eUUbggahmFbo"
   },
   "outputs": [],
   "source": [
    "df = df.drop([\"origination_date\",\"last_payment_date\",\"next_payment_due_date\"],axis=1)\n",
    "df1 = df1.drop([\"origination_date\",\"last_payment_date\",\"next_payment_due_date\"],axis=1)"
   ]
  },
  {
   "cell_type": "code",
   "execution_count": 128,
   "metadata": {
    "colab": {
     "base_uri": "https://localhost:8080/",
     "height": 270
    },
    "id": "mDl3zSmimwnL",
    "outputId": "bf090481-7887-4636-ef25-148f2a7c4483"
   },
   "outputs": [
    {
     "data": {
      "text/html": [
       "<div>\n",
       "<style scoped>\n",
       "    .dataframe tbody tr th:only-of-type {\n",
       "        vertical-align: middle;\n",
       "    }\n",
       "\n",
       "    .dataframe tbody tr th {\n",
       "        vertical-align: top;\n",
       "    }\n",
       "\n",
       "    .dataframe thead th {\n",
       "        text-align: right;\n",
       "    }\n",
       "</style>\n",
       "<table border=\"1\" class=\"dataframe\">\n",
       "  <thead>\n",
       "    <tr style=\"text-align: right;\">\n",
       "      <th></th>\n",
       "      <th>amount_borrowed</th>\n",
       "      <th>term</th>\n",
       "      <th>borrower_rate</th>\n",
       "      <th>installment</th>\n",
       "      <th>grade</th>\n",
       "      <th>principal_balance</th>\n",
       "      <th>principal_paid</th>\n",
       "      <th>interest_paid</th>\n",
       "      <th>late_fees_paid</th>\n",
       "      <th>days_past_due</th>\n",
       "      <th>loan_status_description</th>\n",
       "    </tr>\n",
       "  </thead>\n",
       "  <tbody>\n",
       "    <tr>\n",
       "      <th>0</th>\n",
       "      <td>5100</td>\n",
       "      <td>36</td>\n",
       "      <td>0.0916</td>\n",
       "      <td>162.56</td>\n",
       "      <td>B</td>\n",
       "      <td>1256.87</td>\n",
       "      <td>3843.13</td>\n",
       "      <td>705.95</td>\n",
       "      <td>0.0</td>\n",
       "      <td>60</td>\n",
       "      <td>CURRENT</td>\n",
       "    </tr>\n",
       "    <tr>\n",
       "      <th>1</th>\n",
       "      <td>11775</td>\n",
       "      <td>60</td>\n",
       "      <td>0.1786</td>\n",
       "      <td>298.12</td>\n",
       "      <td>D</td>\n",
       "      <td>0.00</td>\n",
       "      <td>2356.98</td>\n",
       "      <td>2687.69</td>\n",
       "      <td>0.0</td>\n",
       "      <td>698</td>\n",
       "      <td>CHARGEOFF</td>\n",
       "    </tr>\n",
       "    <tr>\n",
       "      <th>2</th>\n",
       "      <td>20000</td>\n",
       "      <td>36</td>\n",
       "      <td>0.0839</td>\n",
       "      <td>630.34</td>\n",
       "      <td>A</td>\n",
       "      <td>0.00</td>\n",
       "      <td>20000.00</td>\n",
       "      <td>2668.60</td>\n",
       "      <td>0.0</td>\n",
       "      <td>0</td>\n",
       "      <td>COMPLETED</td>\n",
       "    </tr>\n",
       "    <tr>\n",
       "      <th>3</th>\n",
       "      <td>6000</td>\n",
       "      <td>36</td>\n",
       "      <td>0.0649</td>\n",
       "      <td>183.87</td>\n",
       "      <td>A</td>\n",
       "      <td>0.00</td>\n",
       "      <td>6000.00</td>\n",
       "      <td>346.34</td>\n",
       "      <td>0.0</td>\n",
       "      <td>0</td>\n",
       "      <td>COMPLETED</td>\n",
       "    </tr>\n",
       "    <tr>\n",
       "      <th>4</th>\n",
       "      <td>22500</td>\n",
       "      <td>36</td>\n",
       "      <td>0.0662</td>\n",
       "      <td>690.84</td>\n",
       "      <td>A</td>\n",
       "      <td>0.00</td>\n",
       "      <td>22500.00</td>\n",
       "      <td>1240.16</td>\n",
       "      <td>0.0</td>\n",
       "      <td>0</td>\n",
       "      <td>COMPLETED</td>\n",
       "    </tr>\n",
       "  </tbody>\n",
       "</table>\n",
       "</div>"
      ],
      "text/plain": [
       "   amount_borrowed  term  borrower_rate  installment grade  principal_balance  \\\n",
       "0             5100    36         0.0916       162.56     B            1256.87   \n",
       "1            11775    60         0.1786       298.12     D               0.00   \n",
       "2            20000    36         0.0839       630.34     A               0.00   \n",
       "3             6000    36         0.0649       183.87     A               0.00   \n",
       "4            22500    36         0.0662       690.84     A               0.00   \n",
       "\n",
       "   principal_paid  interest_paid  late_fees_paid  days_past_due  \\\n",
       "0         3843.13         705.95             0.0             60   \n",
       "1         2356.98        2687.69             0.0            698   \n",
       "2        20000.00        2668.60             0.0              0   \n",
       "3         6000.00         346.34             0.0              0   \n",
       "4        22500.00        1240.16             0.0              0   \n",
       "\n",
       "  loan_status_description  \n",
       "0                 CURRENT  \n",
       "1               CHARGEOFF  \n",
       "2               COMPLETED  \n",
       "3               COMPLETED  \n",
       "4               COMPLETED  "
      ]
     },
     "execution_count": 128,
     "metadata": {},
     "output_type": "execute_result"
    }
   ],
   "source": [
    "df.head()"
   ]
  },
  {
   "cell_type": "code",
   "execution_count": 129,
   "metadata": {},
   "outputs": [
    {
     "data": {
      "image/png": "[encoded data removed]",
      "text/plain": [
       "<Figure size 432x288 with 1 Axes>"
      ]
     },
     "metadata": {
      "needs_background": "light"
     },
     "output_type": "display_data"
    },
    {
     "data": {
      "image/png": "[encoded data removed]",
      "text/plain": [
       "<Figure size 432x288 with 1 Axes>"
      ]
     },
     "metadata": {
      "needs_background": "light"
     },
     "output_type": "display_data"
    }
   ],
   "source": [
    "\n",
    "\n",
    "sns.boxplot(x=df[\"term\"], y=df[\"borrower_rate\"], data=df )\n",
    "plt.show()\n",
    "sns.boxplot(x=df[\"grade\"], y=df[\"term\"], data=df)\n",
    "plt.xticks(rotation=50)\n",
    "\n",
    "\n",
    "plt.show()"
   ]
  },
  {
   "cell_type": "code",
   "execution_count": 130,
   "metadata": {},
   "outputs": [
    {
     "data": {
      "text/plain": [
       "<AxesSubplot:xlabel='grade', ylabel='count'>"
      ]
     },
     "execution_count": 130,
     "metadata": {},
     "output_type": "execute_result"
    },
    {
     "data": {
      "image/png": "[encoded data removed]",
      "text/plain": [
       "<Figure size 432x288 with 1 Axes>"
      ]
     },
     "metadata": {
      "needs_background": "light"
     },
     "output_type": "display_data"
    }
   ],
   "source": [
    "sns.countplot(x=df[\"grade\"], data=df ,hue=df[\"loan_status_description\"])"
   ]
  },
  {
   "cell_type": "code",
   "execution_count": 131,
   "metadata": {},
   "outputs": [
    {
     "data": {
      "text/plain": [
       "<AxesSubplot:xlabel='loan_status_description', ylabel='count'>"
      ]
     },
     "execution_count": 131,
     "metadata": {},
     "output_type": "execute_result"
    },
    {
     "data": {
      "image/png": "[encoded data removed]",
      "text/plain": [
       "<Figure size 432x288 with 1 Axes>"
      ]
     },
     "metadata": {
      "needs_background": "light"
     },
     "output_type": "display_data"
    }
   ],
   "source": [
    "sns.countplot(x=df[\"loan_status_description\"],data=df)"
   ]
  },
  {
   "cell_type": "code",
   "execution_count": 132,
   "metadata": {},
   "outputs": [
    {
     "data": {
      "text/plain": [
       "COMPLETED    574023\n",
       "CURRENT      220985\n",
       "CHARGEOFF    148268\n",
       "DEFAULTED       419\n",
       "Name: loan_status_description, dtype: int64"
      ]
     },
     "execution_count": 132,
     "metadata": {},
     "output_type": "execute_result"
    }
   ],
   "source": [
    "df[\"loan_status_description\"].value_counts()"
   ]
  },
  {
   "cell_type": "code",
   "execution_count": 133,
   "metadata": {},
   "outputs": [
    {
     "data": {
      "text/plain": [
       "<AxesSubplot:xlabel='grade', ylabel='count'>"
      ]
     },
     "execution_count": 133,
     "metadata": {},
     "output_type": "execute_result"
    },
    {
     "data": {
      "image/png": "[encoded data removed]",
      "text/plain": [
       "<Figure size 432x288 with 1 Axes>"
      ]
     },
     "metadata": {
      "needs_background": "light"
     },
     "output_type": "display_data"
    }
   ],
   "source": [
    "sns.countplot(x = df[\"grade\"],data=df,hue=df[\"term\"])"
   ]
  },
  {
   "cell_type": "code",
   "execution_count": 134,
   "metadata": {
    "id": "a5lChmPuQLHY"
   },
   "outputs": [],
   "source": [
    "# from sklearn.model_selection import train_test_split\n",
    "# X_train, X_test, Y_train, Y_test = train_test_split(X,Y,test_size=0.01,random_state=44)"
   ]
  },
  {
   "cell_type": "code",
   "execution_count": 135,
   "metadata": {
    "colab": {
     "base_uri": "https://localhost:8080/",
     "height": 206
    },
    "id": "6LLwySZNm1VL",
    "outputId": "25f388af-d9a9-48d9-87b7-70b6c1fa396e"
   },
   "outputs": [
    {
     "data": {
      "text/html": [
       "<div>\n",
       "<style scoped>\n",
       "    .dataframe tbody tr th:only-of-type {\n",
       "        vertical-align: middle;\n",
       "    }\n",
       "\n",
       "    .dataframe tbody tr th {\n",
       "        vertical-align: top;\n",
       "    }\n",
       "\n",
       "    .dataframe thead th {\n",
       "        text-align: right;\n",
       "    }\n",
       "</style>\n",
       "<table border=\"1\" class=\"dataframe\">\n",
       "  <thead>\n",
       "    <tr style=\"text-align: right;\">\n",
       "      <th></th>\n",
       "      <th>amount_borrowed</th>\n",
       "      <th>term</th>\n",
       "      <th>borrower_rate</th>\n",
       "      <th>installment</th>\n",
       "      <th>grade</th>\n",
       "      <th>principal_balance</th>\n",
       "      <th>principal_paid</th>\n",
       "      <th>interest_paid</th>\n",
       "      <th>late_fees_paid</th>\n",
       "      <th>days_past_due</th>\n",
       "    </tr>\n",
       "  </thead>\n",
       "  <tbody>\n",
       "    <tr>\n",
       "      <th>0</th>\n",
       "      <td>5100</td>\n",
       "      <td>36</td>\n",
       "      <td>0.0916</td>\n",
       "      <td>162.56</td>\n",
       "      <td>B</td>\n",
       "      <td>1256.87</td>\n",
       "      <td>3843.13</td>\n",
       "      <td>705.95</td>\n",
       "      <td>0.0</td>\n",
       "      <td>60</td>\n",
       "    </tr>\n",
       "    <tr>\n",
       "      <th>1</th>\n",
       "      <td>11775</td>\n",
       "      <td>60</td>\n",
       "      <td>0.1786</td>\n",
       "      <td>298.12</td>\n",
       "      <td>D</td>\n",
       "      <td>0.00</td>\n",
       "      <td>2356.98</td>\n",
       "      <td>2687.69</td>\n",
       "      <td>0.0</td>\n",
       "      <td>698</td>\n",
       "    </tr>\n",
       "    <tr>\n",
       "      <th>2</th>\n",
       "      <td>20000</td>\n",
       "      <td>36</td>\n",
       "      <td>0.0839</td>\n",
       "      <td>630.34</td>\n",
       "      <td>A</td>\n",
       "      <td>0.00</td>\n",
       "      <td>20000.00</td>\n",
       "      <td>2668.60</td>\n",
       "      <td>0.0</td>\n",
       "      <td>0</td>\n",
       "    </tr>\n",
       "    <tr>\n",
       "      <th>3</th>\n",
       "      <td>6000</td>\n",
       "      <td>36</td>\n",
       "      <td>0.0649</td>\n",
       "      <td>183.87</td>\n",
       "      <td>A</td>\n",
       "      <td>0.00</td>\n",
       "      <td>6000.00</td>\n",
       "      <td>346.34</td>\n",
       "      <td>0.0</td>\n",
       "      <td>0</td>\n",
       "    </tr>\n",
       "    <tr>\n",
       "      <th>4</th>\n",
       "      <td>22500</td>\n",
       "      <td>36</td>\n",
       "      <td>0.0662</td>\n",
       "      <td>690.84</td>\n",
       "      <td>A</td>\n",
       "      <td>0.00</td>\n",
       "      <td>22500.00</td>\n",
       "      <td>1240.16</td>\n",
       "      <td>0.0</td>\n",
       "      <td>0</td>\n",
       "    </tr>\n",
       "  </tbody>\n",
       "</table>\n",
       "</div>"
      ],
      "text/plain": [
       "   amount_borrowed  term  borrower_rate  installment grade  principal_balance  \\\n",
       "0             5100    36         0.0916       162.56     B            1256.87   \n",
       "1            11775    60         0.1786       298.12     D               0.00   \n",
       "2            20000    36         0.0839       630.34     A               0.00   \n",
       "3             6000    36         0.0649       183.87     A               0.00   \n",
       "4            22500    36         0.0662       690.84     A               0.00   \n",
       "\n",
       "   principal_paid  interest_paid  late_fees_paid  days_past_due  \n",
       "0         3843.13         705.95             0.0             60  \n",
       "1         2356.98        2687.69             0.0            698  \n",
       "2        20000.00        2668.60             0.0              0  \n",
       "3         6000.00         346.34             0.0              0  \n",
       "4        22500.00        1240.16             0.0              0  "
      ]
     },
     "execution_count": 135,
     "metadata": {},
     "output_type": "execute_result"
    }
   ],
   "source": [
    "X_train=df.drop(\"loan_status_description\",axis=1)\n",
    "Y_train=df[\"loan_status_description\"]\n",
    "# from sklearn.model_selection import train_test_split\n",
    "# X_train, X_test, Y_train, Y_test = train_test_split(X,Y,test_size=0.01,random_state=44)\n",
    "X_test = df1\n",
    "\n",
    "from sklearn import preprocessing\n",
    "len = preprocessing.LabelEncoder()\n",
    "len1 = preprocessing.LabelEncoder()\n",
    "X_train[\"grade\"]=len.fit_transform(X_train[\"grade\"])\n",
    "X_test[\"grade\"]=len.transform(X_test[\"grade\"])\n",
    "X.head()"
   ]
  },
  {
   "cell_type": "code",
   "execution_count": 136,
   "metadata": {
    "colab": {
     "base_uri": "https://localhost:8080/"
    },
    "id": "QjuFSRMZPlMd",
    "outputId": "6c1ed7f1-1731-4494-b411-ebef73d59f65"
   },
   "outputs": [
    {
     "data": {
      "text/plain": [
       "array(['B', 'D', 'A', 'C', 'F', 'E', 'G'], dtype=object)"
      ]
     },
     "execution_count": 136,
     "metadata": {},
     "output_type": "execute_result"
    }
   ],
   "source": [
    "X.grade.unique()"
   ]
  },
  {
   "cell_type": "code",
   "execution_count": 137,
   "metadata": {
    "colab": {
     "base_uri": "https://localhost:8080/"
    },
    "id": "s-4xaAvvPnfr",
    "outputId": "0a576f9b-527b-4417-ba17-8b6e2bbd49f0"
   },
   "outputs": [
    {
     "data": {
      "text/plain": [
       "array([36, 60], dtype=int64)"
      ]
     },
     "execution_count": 137,
     "metadata": {},
     "output_type": "execute_result"
    }
   ],
   "source": [
    "X_train[\"term\"]=len.fit_transform(X_train[\"term\"])\n",
    "X_test[\"term\"]=len.transform(X_test[\"term\"])\n",
    "X.head()\n",
    "X.term.unique()"
   ]
  },
  {
   "cell_type": "code",
   "execution_count": 138,
   "metadata": {
    "id": "Gc5fpduQtz0E"
   },
   "outputs": [],
   "source": [
    "Y_train=len1.fit_transform(Y_train)\n",
    "# Y_test=len1.transform(Y_test)"
   ]
  },
  {
   "cell_type": "code",
   "execution_count": 139,
   "metadata": {
    "id": "fLIOmZnQv71T"
   },
   "outputs": [],
   "source": [
    "# np.unique(Y_train)"
   ]
  },
  {
   "cell_type": "code",
   "execution_count": 140,
   "metadata": {
    "id": "1jwk3VnDRJCY"
   },
   "outputs": [],
   "source": [
    "from sklearn.metrics import confusion_matrix,accuracy_score,classification_report\n",
    "# from sklearn.linear_model import LogisticRegression\n",
    "\n",
    "# model = LogisticRegression()\n",
    "# model.fit(X_train,Y_train)\n",
    "# predictions = model.predict(X_test)\n",
    "\n",
    "# Accu = accuracy_score(predictions,Y_test)\n",
    "# predictions2 = model.predict(X_train)\n",
    "# Accu2 = accuracy_score(predictions2,Y_train)\n",
    "# print(Accu)\n",
    "# print(Accu2)"
   ]
  },
  {
   "cell_type": "code",
   "execution_count": 141,
   "metadata": {
    "colab": {
     "base_uri": "https://localhost:8080/"
    },
    "id": "czvwryrbRSO9",
    "outputId": "b5aa6ae0-4337-403f-8f21-318a5f6fdca3"
   },
   "outputs": [
    {
     "name": "stdout",
     "output_type": "stream",
     "text": [
      "train accuracy is: 0.9999978806711914\n"
     ]
    }
   ],
   "source": [
    "from sklearn.ensemble import RandomForestClassifier\n",
    "from sklearn.datasets import make_classification\n",
    "clf = RandomForestClassifier(n_estimators=700)\n",
    "clf.fit(X_train,Y_train)\n",
    "predictions = clf.predict(X_test)\n",
    "# Y_test1 = len1.inverse_transform(Y_test)\n",
    "predictions_1 = len1.inverse_transform(predictions)\n",
    "# Accu = accuracy_score(predictions,Y_test)\n",
    "predictions2 = clf.predict(X_train)\n",
    "Accu2 = accuracy_score(predictions2,Y_train)\n",
    "# print(\"test accuracy is:\",Accu)\n",
    "print(\"train accuracy is:\",Accu2)\n",
    "# print(accuracy_score(predictions_1,Y_test1))"
   ]
  },
  {
   "cell_type": "code",
   "execution_count": 142,
   "metadata": {},
   "outputs": [
    {
     "data": {
      "text/plain": [
       "array(['CHARGEOFF', 'COMPLETED', 'CURRENT', 'DEFAULTED'], dtype=object)"
      ]
     },
     "execution_count": 142,
     "metadata": {},
     "output_type": "execute_result"
    }
   ],
   "source": [
    "np.unique(predictions_1)\n",
    "\n",
    "\n",
    "    "
   ]
  },
  {
   "cell_type": "code",
   "execution_count": 143,
   "metadata": {},
   "outputs": [],
   "source": [
    "df2[\"loan_status_description\"]=predictions_1"
   ]
  },
  {
   "cell_type": "code",
   "execution_count": 144,
   "metadata": {},
   "outputs": [
    {
     "data": {
      "text/plain": [
       "COMPLETED    64008\n",
       "CURRENT      24361\n",
       "CHARGEOFF    16446\n",
       "DEFAULTED       40\n",
       "Name: loan_status_description, dtype: int64"
      ]
     },
     "execution_count": 144,
     "metadata": {},
     "output_type": "execute_result"
    }
   ],
   "source": [
    "df2[\"loan_status_description\"].value_counts()"
   ]
  },
  {
   "cell_type": "code",
   "execution_count": 145,
   "metadata": {},
   "outputs": [
    {
     "data": {
      "text/html": [
       "<div>\n",
       "<style scoped>\n",
       "    .dataframe tbody tr th:only-of-type {\n",
       "        vertical-align: middle;\n",
       "    }\n",
       "\n",
       "    .dataframe tbody tr th {\n",
       "        vertical-align: top;\n",
       "    }\n",
       "\n",
       "    .dataframe thead th {\n",
       "        text-align: right;\n",
       "    }\n",
       "</style>\n",
       "<table border=\"1\" class=\"dataframe\">\n",
       "  <thead>\n",
       "    <tr style=\"text-align: right;\">\n",
       "      <th></th>\n",
       "      <th>loan_number</th>\n",
       "      <th>amount_borrowed</th>\n",
       "      <th>term</th>\n",
       "      <th>borrower_rate</th>\n",
       "      <th>installment</th>\n",
       "      <th>grade</th>\n",
       "      <th>origination_date</th>\n",
       "      <th>listing_title</th>\n",
       "      <th>principal_balance</th>\n",
       "      <th>principal_paid</th>\n",
       "      <th>interest_paid</th>\n",
       "      <th>late_fees_paid</th>\n",
       "      <th>last_payment_date</th>\n",
       "      <th>next_payment_due_date</th>\n",
       "      <th>days_past_due</th>\n",
       "      <th>data_source</th>\n",
       "      <th>loan_status_description</th>\n",
       "    </tr>\n",
       "  </thead>\n",
       "  <tbody>\n",
       "    <tr>\n",
       "      <th>0</th>\n",
       "      <td>1582834</td>\n",
       "      <td>16000</td>\n",
       "      <td>60</td>\n",
       "      <td>0.1522</td>\n",
       "      <td>382.49</td>\n",
       "      <td>C</td>\n",
       "      <td>2013-08-01T00:00</td>\n",
       "      <td>debt_consolidation</td>\n",
       "      <td>764.42</td>\n",
       "      <td>15235.58</td>\n",
       "      <td>6948.84</td>\n",
       "      <td>57.36</td>\n",
       "      <td>2018-06-01T00:00</td>\n",
       "      <td>2018-07-01T00:00</td>\n",
       "      <td>60</td>\n",
       "      <td>'Lending Club'</td>\n",
       "      <td>CURRENT</td>\n",
       "    </tr>\n",
       "    <tr>\n",
       "      <th>1</th>\n",
       "      <td>75679675</td>\n",
       "      <td>4800</td>\n",
       "      <td>36</td>\n",
       "      <td>0.2118</td>\n",
       "      <td>181.29</td>\n",
       "      <td>E</td>\n",
       "      <td>2016-03-01T00:00</td>\n",
       "      <td>other</td>\n",
       "      <td>1496.22</td>\n",
       "      <td>3303.78</td>\n",
       "      <td>1585.40</td>\n",
       "      <td>0.00</td>\n",
       "      <td>2018-07-01T00:00</td>\n",
       "      <td>2018-08-01T00:00</td>\n",
       "      <td>29</td>\n",
       "      <td>'Lending Club'</td>\n",
       "      <td>CURRENT</td>\n",
       "    </tr>\n",
       "    <tr>\n",
       "      <th>2</th>\n",
       "      <td>6178775</td>\n",
       "      <td>20000</td>\n",
       "      <td>36</td>\n",
       "      <td>0.1368</td>\n",
       "      <td>680.45</td>\n",
       "      <td>C</td>\n",
       "      <td>2013-08-01T00:00</td>\n",
       "      <td>wedding</td>\n",
       "      <td>0.00</td>\n",
       "      <td>20000.00</td>\n",
       "      <td>2040.69</td>\n",
       "      <td>0.00</td>\n",
       "      <td>2014-06-01T00:00</td>\n",
       "      <td>2014-07-01T00:00</td>\n",
       "      <td>0</td>\n",
       "      <td>'Lending Club'</td>\n",
       "      <td>COMPLETED</td>\n",
       "    </tr>\n",
       "    <tr>\n",
       "      <th>3</th>\n",
       "      <td>55667318</td>\n",
       "      <td>15000</td>\n",
       "      <td>36</td>\n",
       "      <td>0.1757</td>\n",
       "      <td>539.06</td>\n",
       "      <td>D</td>\n",
       "      <td>2015-07-01T00:00</td>\n",
       "      <td>debt_consolidation</td>\n",
       "      <td>0.00</td>\n",
       "      <td>4157.47</td>\n",
       "      <td>2383.13</td>\n",
       "      <td>0.00</td>\n",
       "      <td>2016-08-01T00:00</td>\n",
       "      <td>2016-09-01T00:00</td>\n",
       "      <td>728</td>\n",
       "      <td>'Lending Club'</td>\n",
       "      <td>CHARGEOFF</td>\n",
       "    </tr>\n",
       "    <tr>\n",
       "      <th>4</th>\n",
       "      <td>60315522</td>\n",
       "      <td>8000</td>\n",
       "      <td>36</td>\n",
       "      <td>0.1399</td>\n",
       "      <td>273.39</td>\n",
       "      <td>C</td>\n",
       "      <td>2015-09-01T00:00</td>\n",
       "      <td>debt_consolidation</td>\n",
       "      <td>0.00</td>\n",
       "      <td>8000.00</td>\n",
       "      <td>1399.11</td>\n",
       "      <td>0.00</td>\n",
       "      <td>2017-05-01T00:00</td>\n",
       "      <td>2017-06-01T00:00</td>\n",
       "      <td>0</td>\n",
       "      <td>'Lending Club'</td>\n",
       "      <td>COMPLETED</td>\n",
       "    </tr>\n",
       "    <tr>\n",
       "      <th>...</th>\n",
       "      <td>...</td>\n",
       "      <td>...</td>\n",
       "      <td>...</td>\n",
       "      <td>...</td>\n",
       "      <td>...</td>\n",
       "      <td>...</td>\n",
       "      <td>...</td>\n",
       "      <td>...</td>\n",
       "      <td>...</td>\n",
       "      <td>...</td>\n",
       "      <td>...</td>\n",
       "      <td>...</td>\n",
       "      <td>...</td>\n",
       "      <td>...</td>\n",
       "      <td>...</td>\n",
       "      <td>...</td>\n",
       "      <td>...</td>\n",
       "    </tr>\n",
       "    <tr>\n",
       "      <th>104850</th>\n",
       "      <td>56050781</td>\n",
       "      <td>18000</td>\n",
       "      <td>60</td>\n",
       "      <td>0.1757</td>\n",
       "      <td>452.89</td>\n",
       "      <td>D</td>\n",
       "      <td>2015-08-01T00:00</td>\n",
       "      <td>other</td>\n",
       "      <td>9423.78</td>\n",
       "      <td>8576.22</td>\n",
       "      <td>7257.36</td>\n",
       "      <td>0.00</td>\n",
       "      <td>2018-07-01T00:00</td>\n",
       "      <td>2018-08-01T00:00</td>\n",
       "      <td>29</td>\n",
       "      <td>'Lending Club'</td>\n",
       "      <td>CURRENT</td>\n",
       "    </tr>\n",
       "    <tr>\n",
       "      <th>104851</th>\n",
       "      <td>43769718</td>\n",
       "      <td>20000</td>\n",
       "      <td>36</td>\n",
       "      <td>0.0917</td>\n",
       "      <td>637.58</td>\n",
       "      <td>B</td>\n",
       "      <td>2015-03-01T00:00</td>\n",
       "      <td>debt_consolidation</td>\n",
       "      <td>0.00</td>\n",
       "      <td>20000.00</td>\n",
       "      <td>2942.62</td>\n",
       "      <td>0.00</td>\n",
       "      <td>2018-03-01T00:00</td>\n",
       "      <td>2018-04-01T00:00</td>\n",
       "      <td>0</td>\n",
       "      <td>'Lending Club'</td>\n",
       "      <td>COMPLETED</td>\n",
       "    </tr>\n",
       "    <tr>\n",
       "      <th>104852</th>\n",
       "      <td>64231414</td>\n",
       "      <td>5200</td>\n",
       "      <td>36</td>\n",
       "      <td>0.1099</td>\n",
       "      <td>170.22</td>\n",
       "      <td>B</td>\n",
       "      <td>2015-11-01T00:00</td>\n",
       "      <td>debt_consolidation</td>\n",
       "      <td>828.08</td>\n",
       "      <td>4371.92</td>\n",
       "      <td>914.42</td>\n",
       "      <td>0.00</td>\n",
       "      <td>2018-06-01T00:00</td>\n",
       "      <td>2018-07-01T00:00</td>\n",
       "      <td>60</td>\n",
       "      <td>'Lending Club'</td>\n",
       "      <td>CURRENT</td>\n",
       "    </tr>\n",
       "    <tr>\n",
       "      <th>104853</th>\n",
       "      <td>59462626</td>\n",
       "      <td>20000</td>\n",
       "      <td>36</td>\n",
       "      <td>0.1699</td>\n",
       "      <td>712.96</td>\n",
       "      <td>D</td>\n",
       "      <td>2015-09-01T00:00</td>\n",
       "      <td>debt_consolidation</td>\n",
       "      <td>0.00</td>\n",
       "      <td>20000.00</td>\n",
       "      <td>5021.26</td>\n",
       "      <td>0.00</td>\n",
       "      <td>2018-03-01T00:00</td>\n",
       "      <td>2018-04-01T00:00</td>\n",
       "      <td>0</td>\n",
       "      <td>'Lending Club'</td>\n",
       "      <td>COMPLETED</td>\n",
       "    </tr>\n",
       "    <tr>\n",
       "      <th>104854</th>\n",
       "      <td>38455988</td>\n",
       "      <td>16000</td>\n",
       "      <td>36</td>\n",
       "      <td>0.1269</td>\n",
       "      <td>536.72</td>\n",
       "      <td>C</td>\n",
       "      <td>2015-02-01T00:00</td>\n",
       "      <td>credit_card</td>\n",
       "      <td>0.00</td>\n",
       "      <td>16000.00</td>\n",
       "      <td>3242.11</td>\n",
       "      <td>0.00</td>\n",
       "      <td>2017-09-01T00:00</td>\n",
       "      <td>2017-10-01T00:00</td>\n",
       "      <td>0</td>\n",
       "      <td>'Lending Club'</td>\n",
       "      <td>COMPLETED</td>\n",
       "    </tr>\n",
       "  </tbody>\n",
       "</table>\n",
       "<p>104855 rows × 17 columns</p>\n",
       "</div>"
      ],
      "text/plain": [
       "        loan_number  amount_borrowed  term  borrower_rate  installment grade  \\\n",
       "0           1582834            16000    60         0.1522       382.49     C   \n",
       "1          75679675             4800    36         0.2118       181.29     E   \n",
       "2           6178775            20000    36         0.1368       680.45     C   \n",
       "3          55667318            15000    36         0.1757       539.06     D   \n",
       "4          60315522             8000    36         0.1399       273.39     C   \n",
       "...             ...              ...   ...            ...          ...   ...   \n",
       "104850     56050781            18000    60         0.1757       452.89     D   \n",
       "104851     43769718            20000    36         0.0917       637.58     B   \n",
       "104852     64231414             5200    36         0.1099       170.22     B   \n",
       "104853     59462626            20000    36         0.1699       712.96     D   \n",
       "104854     38455988            16000    36         0.1269       536.72     C   \n",
       "\n",
       "        origination_date       listing_title  principal_balance  \\\n",
       "0       2013-08-01T00:00  debt_consolidation             764.42   \n",
       "1       2016-03-01T00:00               other            1496.22   \n",
       "2       2013-08-01T00:00             wedding               0.00   \n",
       "3       2015-07-01T00:00  debt_consolidation               0.00   \n",
       "4       2015-09-01T00:00  debt_consolidation               0.00   \n",
       "...                  ...                 ...                ...   \n",
       "104850  2015-08-01T00:00               other            9423.78   \n",
       "104851  2015-03-01T00:00  debt_consolidation               0.00   \n",
       "104852  2015-11-01T00:00  debt_consolidation             828.08   \n",
       "104853  2015-09-01T00:00  debt_consolidation               0.00   \n",
       "104854  2015-02-01T00:00         credit_card               0.00   \n",
       "\n",
       "        principal_paid  interest_paid  late_fees_paid last_payment_date  \\\n",
       "0             15235.58        6948.84           57.36  2018-06-01T00:00   \n",
       "1              3303.78        1585.40            0.00  2018-07-01T00:00   \n",
       "2             20000.00        2040.69            0.00  2014-06-01T00:00   \n",
       "3              4157.47        2383.13            0.00  2016-08-01T00:00   \n",
       "4              8000.00        1399.11            0.00  2017-05-01T00:00   \n",
       "...                ...            ...             ...               ...   \n",
       "104850         8576.22        7257.36            0.00  2018-07-01T00:00   \n",
       "104851        20000.00        2942.62            0.00  2018-03-01T00:00   \n",
       "104852         4371.92         914.42            0.00  2018-06-01T00:00   \n",
       "104853        20000.00        5021.26            0.00  2018-03-01T00:00   \n",
       "104854        16000.00        3242.11            0.00  2017-09-01T00:00   \n",
       "\n",
       "       next_payment_due_date  days_past_due     data_source  \\\n",
       "0           2018-07-01T00:00             60  'Lending Club'   \n",
       "1           2018-08-01T00:00             29  'Lending Club'   \n",
       "2           2014-07-01T00:00              0  'Lending Club'   \n",
       "3           2016-09-01T00:00            728  'Lending Club'   \n",
       "4           2017-06-01T00:00              0  'Lending Club'   \n",
       "...                      ...            ...             ...   \n",
       "104850      2018-08-01T00:00             29  'Lending Club'   \n",
       "104851      2018-04-01T00:00              0  'Lending Club'   \n",
       "104852      2018-07-01T00:00             60  'Lending Club'   \n",
       "104853      2018-04-01T00:00              0  'Lending Club'   \n",
       "104854      2017-10-01T00:00              0  'Lending Club'   \n",
       "\n",
       "       loan_status_description  \n",
       "0                      CURRENT  \n",
       "1                      CURRENT  \n",
       "2                    COMPLETED  \n",
       "3                    CHARGEOFF  \n",
       "4                    COMPLETED  \n",
       "...                        ...  \n",
       "104850                 CURRENT  \n",
       "104851               COMPLETED  \n",
       "104852                 CURRENT  \n",
       "104853               COMPLETED  \n",
       "104854               COMPLETED  \n",
       "\n",
       "[104855 rows x 17 columns]"
      ]
     },
     "execution_count": 145,
     "metadata": {},
     "output_type": "execute_result"
    }
   ],
   "source": [
    "df2"
   ]
  },
  {
   "cell_type": "code",
   "execution_count": 146,
   "metadata": {},
   "outputs": [],
   "source": [
    "df2 = df2[[\"loan_number\",\"loan_status_description\"]]"
   ]
  },
  {
   "cell_type": "code",
   "execution_count": 147,
   "metadata": {},
   "outputs": [
    {
     "data": {
      "text/html": [
       "<div>\n",
       "<style scoped>\n",
       "    .dataframe tbody tr th:only-of-type {\n",
       "        vertical-align: middle;\n",
       "    }\n",
       "\n",
       "    .dataframe tbody tr th {\n",
       "        vertical-align: top;\n",
       "    }\n",
       "\n",
       "    .dataframe thead th {\n",
       "        text-align: right;\n",
       "    }\n",
       "</style>\n",
       "<table border=\"1\" class=\"dataframe\">\n",
       "  <thead>\n",
       "    <tr style=\"text-align: right;\">\n",
       "      <th></th>\n",
       "      <th>loan_number</th>\n",
       "      <th>loan_status_description</th>\n",
       "    </tr>\n",
       "  </thead>\n",
       "  <tbody>\n",
       "    <tr>\n",
       "      <th>0</th>\n",
       "      <td>1582834</td>\n",
       "      <td>CURRENT</td>\n",
       "    </tr>\n",
       "    <tr>\n",
       "      <th>1</th>\n",
       "      <td>75679675</td>\n",
       "      <td>CURRENT</td>\n",
       "    </tr>\n",
       "    <tr>\n",
       "      <th>2</th>\n",
       "      <td>6178775</td>\n",
       "      <td>COMPLETED</td>\n",
       "    </tr>\n",
       "    <tr>\n",
       "      <th>3</th>\n",
       "      <td>55667318</td>\n",
       "      <td>CHARGEOFF</td>\n",
       "    </tr>\n",
       "    <tr>\n",
       "      <th>4</th>\n",
       "      <td>60315522</td>\n",
       "      <td>COMPLETED</td>\n",
       "    </tr>\n",
       "    <tr>\n",
       "      <th>...</th>\n",
       "      <td>...</td>\n",
       "      <td>...</td>\n",
       "    </tr>\n",
       "    <tr>\n",
       "      <th>104850</th>\n",
       "      <td>56050781</td>\n",
       "      <td>CURRENT</td>\n",
       "    </tr>\n",
       "    <tr>\n",
       "      <th>104851</th>\n",
       "      <td>43769718</td>\n",
       "      <td>COMPLETED</td>\n",
       "    </tr>\n",
       "    <tr>\n",
       "      <th>104852</th>\n",
       "      <td>64231414</td>\n",
       "      <td>CURRENT</td>\n",
       "    </tr>\n",
       "    <tr>\n",
       "      <th>104853</th>\n",
       "      <td>59462626</td>\n",
       "      <td>COMPLETED</td>\n",
       "    </tr>\n",
       "    <tr>\n",
       "      <th>104854</th>\n",
       "      <td>38455988</td>\n",
       "      <td>COMPLETED</td>\n",
       "    </tr>\n",
       "  </tbody>\n",
       "</table>\n",
       "<p>104855 rows × 2 columns</p>\n",
       "</div>"
      ],
      "text/plain": [
       "        loan_number loan_status_description\n",
       "0           1582834                 CURRENT\n",
       "1          75679675                 CURRENT\n",
       "2           6178775               COMPLETED\n",
       "3          55667318               CHARGEOFF\n",
       "4          60315522               COMPLETED\n",
       "...             ...                     ...\n",
       "104850     56050781                 CURRENT\n",
       "104851     43769718               COMPLETED\n",
       "104852     64231414                 CURRENT\n",
       "104853     59462626               COMPLETED\n",
       "104854     38455988               COMPLETED\n",
       "\n",
       "[104855 rows x 2 columns]"
      ]
     },
     "execution_count": 147,
     "metadata": {},
     "output_type": "execute_result"
    }
   ],
   "source": [
    "df2"
   ]
  },
  {
   "cell_type": "code",
   "execution_count": 148,
   "metadata": {},
   "outputs": [
    {
     "data": {
      "text/plain": [
       "COMPLETED    64008\n",
       "CURRENT      24361\n",
       "CHARGEOFF    16446\n",
       "DEFAULTED       40\n",
       "Name: loan_status_description, dtype: int64"
      ]
     },
     "execution_count": 148,
     "metadata": {},
     "output_type": "execute_result"
    }
   ],
   "source": [
    "df2[\"loan_status_description\"].value_counts()"
   ]
  },
  {
   "cell_type": "code",
   "execution_count": 149,
   "metadata": {},
   "outputs": [],
   "source": [
    "df2.to_csv(\"final_output1_q2.csv\",index=False)"
   ]
  },
  {
   "cell_type": "code",
   "execution_count": 150,
   "metadata": {},
   "outputs": [
    {
     "data": {
      "text/html": [
       "<div>\n",
       "<style scoped>\n",
       "    .dataframe tbody tr th:only-of-type {\n",
       "        vertical-align: middle;\n",
       "    }\n",
       "\n",
       "    .dataframe tbody tr th {\n",
       "        vertical-align: top;\n",
       "    }\n",
       "\n",
       "    .dataframe thead th {\n",
       "        text-align: right;\n",
       "    }\n",
       "</style>\n",
       "<table border=\"1\" class=\"dataframe\">\n",
       "  <thead>\n",
       "    <tr style=\"text-align: right;\">\n",
       "      <th></th>\n",
       "      <th>loan_number</th>\n",
       "      <th>loan_status_description</th>\n",
       "    </tr>\n",
       "  </thead>\n",
       "  <tbody>\n",
       "    <tr>\n",
       "      <th>0</th>\n",
       "      <td>1582834</td>\n",
       "      <td>CURRENT</td>\n",
       "    </tr>\n",
       "    <tr>\n",
       "      <th>1</th>\n",
       "      <td>75679675</td>\n",
       "      <td>CURRENT</td>\n",
       "    </tr>\n",
       "  </tbody>\n",
       "</table>\n",
       "</div>"
      ],
      "text/plain": [
       "   loan_number loan_status_description\n",
       "0      1582834                 CURRENT\n",
       "1     75679675                 CURRENT"
      ]
     },
     "execution_count": 150,
     "metadata": {},
     "output_type": "execute_result"
    }
   ],
   "source": [
    "pd.read_csv(\"final_output1_q2.csv\").head(2)"
   ]
  },
  {
   "cell_type": "markdown",
   "metadata": {
    "id": "EuZOscXciLHf"
   },
   "source": [
    "test accuracy is: 0.9996821023630391\n",
    "train accuracy is: 0.9999978374193492"
   ]
  }
 ],
 "metadata": {
  "colab": {
   "collapsed_sections": [],
   "provenance": []
  },
  "kernelspec": {
   "display_name": "Python 3 (ipykernel)",
   "language": "python",
   "name": "python3"
  },
  "language_info": {
   "codemirror_mode": {
    "name": "ipython",
    "version": 3
   },
   "file_extension": ".py",
   "mimetype": "text/x-python",
   "name": "python",
   "nbconvert_exporter": "python",
   "pygments_lexer": "ipython3",
   "version": "3.9.12"
  }
 },
 "nbformat": 4,
 "nbformat_minor": 1
}
